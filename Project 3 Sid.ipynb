{
 "cells": [
  {
   "cell_type": "markdown",
   "metadata": {},
   "source": [
    "# Getting started\n",
    "\n",
    "Once you've chosen your scenario, download the data from [the Iowa website](https://data.iowa.gov/Economy/Iowa-Liquor-Sales/m3tr-qhgy) in csv format. Start by loading the data with pandas. You may need to parse the date columns appropriately."
   ]
  },
  {
   "cell_type": "code",
   "execution_count": 1,
   "metadata": {
    "collapsed": false
   },
   "outputs": [
    {
     "name": "stdout",
     "output_type": "stream",
     "text": [
      "(270955, 18)\n"
     ]
    },
    {
     "data": {
      "text/html": [
       "<div>\n",
       "<table border=\"1\" class=\"dataframe\">\n",
       "  <thead>\n",
       "    <tr style=\"text-align: right;\">\n",
       "      <th></th>\n",
       "      <th>Date</th>\n",
       "      <th>Store Number</th>\n",
       "      <th>City</th>\n",
       "      <th>Zip Code</th>\n",
       "      <th>County Number</th>\n",
       "      <th>County</th>\n",
       "      <th>Category</th>\n",
       "      <th>Category Name</th>\n",
       "      <th>Vendor Number</th>\n",
       "      <th>Item Number</th>\n",
       "      <th>Item Description</th>\n",
       "      <th>Bottle Volume (ml)</th>\n",
       "      <th>State Bottle Cost</th>\n",
       "      <th>State Bottle Retail</th>\n",
       "      <th>Bottles Sold</th>\n",
       "      <th>Sale (Dollars)</th>\n",
       "      <th>Volume Sold (Liters)</th>\n",
       "      <th>Volume Sold (Gallons)</th>\n",
       "    </tr>\n",
       "  </thead>\n",
       "  <tbody>\n",
       "    <tr>\n",
       "      <th>0</th>\n",
       "      <td>11/04/2015</td>\n",
       "      <td>3717</td>\n",
       "      <td>SUMNER</td>\n",
       "      <td>50674</td>\n",
       "      <td>9.0</td>\n",
       "      <td>Bremer</td>\n",
       "      <td>1051100.0</td>\n",
       "      <td>APRICOT BRANDIES</td>\n",
       "      <td>55</td>\n",
       "      <td>54436</td>\n",
       "      <td>Mr. Boston Apricot Brandy</td>\n",
       "      <td>750</td>\n",
       "      <td>$4.50</td>\n",
       "      <td>$6.75</td>\n",
       "      <td>12</td>\n",
       "      <td>$81.00</td>\n",
       "      <td>9.0</td>\n",
       "      <td>2.38</td>\n",
       "    </tr>\n",
       "    <tr>\n",
       "      <th>1</th>\n",
       "      <td>03/02/2016</td>\n",
       "      <td>2614</td>\n",
       "      <td>DAVENPORT</td>\n",
       "      <td>52807</td>\n",
       "      <td>82.0</td>\n",
       "      <td>Scott</td>\n",
       "      <td>1011100.0</td>\n",
       "      <td>BLENDED WHISKIES</td>\n",
       "      <td>395</td>\n",
       "      <td>27605</td>\n",
       "      <td>Tin Cup</td>\n",
       "      <td>750</td>\n",
       "      <td>$13.75</td>\n",
       "      <td>$20.63</td>\n",
       "      <td>2</td>\n",
       "      <td>$41.26</td>\n",
       "      <td>1.5</td>\n",
       "      <td>0.40</td>\n",
       "    </tr>\n",
       "    <tr>\n",
       "      <th>2</th>\n",
       "      <td>02/11/2016</td>\n",
       "      <td>2106</td>\n",
       "      <td>CEDAR FALLS</td>\n",
       "      <td>50613</td>\n",
       "      <td>7.0</td>\n",
       "      <td>Black Hawk</td>\n",
       "      <td>1011200.0</td>\n",
       "      <td>STRAIGHT BOURBON WHISKIES</td>\n",
       "      <td>65</td>\n",
       "      <td>19067</td>\n",
       "      <td>Jim Beam</td>\n",
       "      <td>1000</td>\n",
       "      <td>$12.59</td>\n",
       "      <td>$18.89</td>\n",
       "      <td>24</td>\n",
       "      <td>$453.36</td>\n",
       "      <td>24.0</td>\n",
       "      <td>6.34</td>\n",
       "    </tr>\n",
       "    <tr>\n",
       "      <th>3</th>\n",
       "      <td>02/03/2016</td>\n",
       "      <td>2501</td>\n",
       "      <td>AMES</td>\n",
       "      <td>50010</td>\n",
       "      <td>85.0</td>\n",
       "      <td>Story</td>\n",
       "      <td>1071100.0</td>\n",
       "      <td>AMERICAN COCKTAILS</td>\n",
       "      <td>395</td>\n",
       "      <td>59154</td>\n",
       "      <td>1800 Ultimate Margarita</td>\n",
       "      <td>1750</td>\n",
       "      <td>$9.50</td>\n",
       "      <td>$14.25</td>\n",
       "      <td>6</td>\n",
       "      <td>$85.50</td>\n",
       "      <td>10.5</td>\n",
       "      <td>2.77</td>\n",
       "    </tr>\n",
       "    <tr>\n",
       "      <th>4</th>\n",
       "      <td>08/18/2015</td>\n",
       "      <td>3654</td>\n",
       "      <td>BELMOND</td>\n",
       "      <td>50421</td>\n",
       "      <td>99.0</td>\n",
       "      <td>Wright</td>\n",
       "      <td>1031080.0</td>\n",
       "      <td>VODKA 80 PROOF</td>\n",
       "      <td>297</td>\n",
       "      <td>35918</td>\n",
       "      <td>Five O'clock Vodka</td>\n",
       "      <td>1750</td>\n",
       "      <td>$7.20</td>\n",
       "      <td>$10.80</td>\n",
       "      <td>12</td>\n",
       "      <td>$129.60</td>\n",
       "      <td>21.0</td>\n",
       "      <td>5.55</td>\n",
       "    </tr>\n",
       "  </tbody>\n",
       "</table>\n",
       "</div>"
      ],
      "text/plain": [
       "         Date  Store Number         City Zip Code  County Number      County  \\\n",
       "0  11/04/2015          3717       SUMNER    50674            9.0      Bremer   \n",
       "1  03/02/2016          2614    DAVENPORT    52807           82.0       Scott   \n",
       "2  02/11/2016          2106  CEDAR FALLS    50613            7.0  Black Hawk   \n",
       "3  02/03/2016          2501         AMES    50010           85.0       Story   \n",
       "4  08/18/2015          3654      BELMOND    50421           99.0      Wright   \n",
       "\n",
       "    Category              Category Name  Vendor Number  Item Number  \\\n",
       "0  1051100.0           APRICOT BRANDIES             55        54436   \n",
       "1  1011100.0           BLENDED WHISKIES            395        27605   \n",
       "2  1011200.0  STRAIGHT BOURBON WHISKIES             65        19067   \n",
       "3  1071100.0         AMERICAN COCKTAILS            395        59154   \n",
       "4  1031080.0             VODKA 80 PROOF            297        35918   \n",
       "\n",
       "            Item Description  Bottle Volume (ml) State Bottle Cost  \\\n",
       "0  Mr. Boston Apricot Brandy                 750             $4.50   \n",
       "1                    Tin Cup                 750            $13.75   \n",
       "2                   Jim Beam                1000            $12.59   \n",
       "3    1800 Ultimate Margarita                1750             $9.50   \n",
       "4         Five O'clock Vodka                1750             $7.20   \n",
       "\n",
       "  State Bottle Retail  Bottles Sold Sale (Dollars)  Volume Sold (Liters)  \\\n",
       "0               $6.75            12         $81.00                   9.0   \n",
       "1              $20.63             2         $41.26                   1.5   \n",
       "2              $18.89            24        $453.36                  24.0   \n",
       "3              $14.25             6         $85.50                  10.5   \n",
       "4              $10.80            12        $129.60                  21.0   \n",
       "\n",
       "   Volume Sold (Gallons)  \n",
       "0                   2.38  \n",
       "1                   0.40  \n",
       "2                   6.34  \n",
       "3                   2.77  \n",
       "4                   5.55  "
      ]
     },
     "execution_count": 1,
     "metadata": {},
     "output_type": "execute_result"
    }
   ],
   "source": [
    "import pandas as pd\n",
    "import numpy as np\n",
    "import sklearn\n",
    "import datetime as dt\n",
    "from sklearn import preprocessing\n",
    "# from sklearn.cross_validation import train_test_split\n",
    "import sklearn.model_selection\n",
    "from sklearn import linear_model\n",
    "import seaborn as sns\n",
    "import matplotlib.pyplot as plt\n",
    "%matplotlib inline\n",
    "## Load the data into a DataFrame\n",
    "# pd.read_csv()\n",
    "df_main= pd.read_csv('Iowa_Liquor_sales_sample_10pct.csv')\n",
    "df_main.columns = [x.strip() for x in df_main.columns]\n",
    "print df_main.shape\n",
    "df_main.head()\n",
    "## Transform the dates if needed, e.g.\n",
    "# df[\"Date\"] = pd.to_datetime(df[\"Date\"], format=\"%m-%d-%y\")"
   ]
  },
  {
   "cell_type": "code",
   "execution_count": 3,
   "metadata": {
    "collapsed": false,
    "scrolled": false
   },
   "outputs": [],
   "source": [
    "df_main[\"Date\"] = pd.to_datetime(df_main[\"Date\"], format=\"%m/%d/%Y\")"
   ]
  },
  {
   "cell_type": "code",
   "execution_count": 4,
   "metadata": {
    "collapsed": true
   },
   "outputs": [],
   "source": [
    "df_main['Sale (Dollars)'] = df_main['Sale (Dollars)'].astype(str)\n",
    "df_main['Sale (Dollars)'] = df_main['Sale (Dollars)'].str.replace('$','').replace(',','').astype(float)"
   ]
  },
  {
   "cell_type": "code",
   "execution_count": 5,
   "metadata": {
    "collapsed": false
   },
   "outputs": [],
   "source": [
    "df_main['State Bottle Cost'] = df_main['State Bottle Cost'].str.replace('$','').replace(',','').astype(float)\n",
    "df_main['State Bottle Retail'] = df_main['State Bottle Retail'].str.replace('$','').replace(',','').astype(float)"
   ]
  },
  {
   "cell_type": "code",
   "execution_count": 6,
   "metadata": {
    "collapsed": false
   },
   "outputs": [],
   "source": [
    "df_main['Zip Code']= df_main['Zip Code'].str.replace('-','').astype(int)"
   ]
  },
  {
   "cell_type": "code",
   "execution_count": 7,
   "metadata": {
    "collapsed": false
   },
   "outputs": [
    {
     "data": {
      "text/plain": [
       "Date                     datetime64[ns]\n",
       "Store Number                      int64\n",
       "City                             object\n",
       "Zip Code                          int64\n",
       "County Number                   float64\n",
       "County                           object\n",
       "Category                        float64\n",
       "Category Name                    object\n",
       "Vendor Number                     int64\n",
       "Item Number                       int64\n",
       "Item Description                 object\n",
       "Bottle Volume (ml)                int64\n",
       "State Bottle Cost               float64\n",
       "State Bottle Retail             float64\n",
       "Bottles Sold                      int64\n",
       "Sale (Dollars)                  float64\n",
       "Volume Sold (Liters)            float64\n",
       "Volume Sold (Gallons)           float64\n",
       "dtype: object"
      ]
     },
     "execution_count": 7,
     "metadata": {},
     "output_type": "execute_result"
    }
   ],
   "source": [
    "df_main.dtypes"
   ]
  },
  {
   "cell_type": "markdown",
   "metadata": {},
   "source": [
    "###  ***COmpleted data conversions for data set***"
   ]
  },
  {
   "cell_type": "markdown",
   "metadata": {},
   "source": [
    "# Explore the data\n",
    "\n",
    "Perform some exploratory statistical analysis and make some plots, such as histograms of transaction totals, bottles sold, etc."
   ]
  },
  {
   "cell_type": "code",
   "execution_count": 8,
   "metadata": {
    "collapsed": false,
    "scrolled": true
   },
   "outputs": [
    {
     "data": {
      "text/html": [
       "<div>\n",
       "<table border=\"1\" class=\"dataframe\">\n",
       "  <thead>\n",
       "    <tr style=\"text-align: right;\">\n",
       "      <th></th>\n",
       "      <th>Store Number</th>\n",
       "      <th>Zip Code</th>\n",
       "      <th>County Number</th>\n",
       "      <th>Category</th>\n",
       "      <th>Vendor Number</th>\n",
       "      <th>Item Number</th>\n",
       "      <th>Bottle Volume (ml)</th>\n",
       "      <th>State Bottle Cost</th>\n",
       "      <th>State Bottle Retail</th>\n",
       "      <th>Bottles Sold</th>\n",
       "      <th>Sale (Dollars)</th>\n",
       "      <th>Volume Sold (Liters)</th>\n",
       "      <th>Volume Sold (Gallons)</th>\n",
       "    </tr>\n",
       "  </thead>\n",
       "  <tbody>\n",
       "    <tr>\n",
       "      <th>Store Number</th>\n",
       "      <td>1.000000</td>\n",
       "      <td>-0.019848</td>\n",
       "      <td>0.007510</td>\n",
       "      <td>-0.012111</td>\n",
       "      <td>-0.004533</td>\n",
       "      <td>-0.026386</td>\n",
       "      <td>-0.063475</td>\n",
       "      <td>-0.071382</td>\n",
       "      <td>-0.071520</td>\n",
       "      <td>0.014422</td>\n",
       "      <td>-0.017941</td>\n",
       "      <td>-0.017696</td>\n",
       "      <td>-0.017686</td>\n",
       "    </tr>\n",
       "    <tr>\n",
       "      <th>Zip Code</th>\n",
       "      <td>-0.019848</td>\n",
       "      <td>1.000000</td>\n",
       "      <td>-0.015780</td>\n",
       "      <td>-0.000697</td>\n",
       "      <td>-0.002073</td>\n",
       "      <td>-0.004574</td>\n",
       "      <td>-0.013221</td>\n",
       "      <td>-0.014589</td>\n",
       "      <td>-0.014614</td>\n",
       "      <td>0.005415</td>\n",
       "      <td>0.000555</td>\n",
       "      <td>0.000717</td>\n",
       "      <td>0.000719</td>\n",
       "    </tr>\n",
       "    <tr>\n",
       "      <th>County Number</th>\n",
       "      <td>0.007510</td>\n",
       "      <td>-0.015780</td>\n",
       "      <td>1.000000</td>\n",
       "      <td>-0.006336</td>\n",
       "      <td>0.001746</td>\n",
       "      <td>0.006810</td>\n",
       "      <td>-0.027694</td>\n",
       "      <td>0.012186</td>\n",
       "      <td>0.012113</td>\n",
       "      <td>0.018945</td>\n",
       "      <td>0.019851</td>\n",
       "      <td>0.010199</td>\n",
       "      <td>0.010208</td>\n",
       "    </tr>\n",
       "    <tr>\n",
       "      <th>Category</th>\n",
       "      <td>-0.012111</td>\n",
       "      <td>-0.000697</td>\n",
       "      <td>-0.006336</td>\n",
       "      <td>1.000000</td>\n",
       "      <td>0.091920</td>\n",
       "      <td>0.116385</td>\n",
       "      <td>-0.009294</td>\n",
       "      <td>-0.013358</td>\n",
       "      <td>-0.013545</td>\n",
       "      <td>-0.000208</td>\n",
       "      <td>0.006382</td>\n",
       "      <td>-0.004375</td>\n",
       "      <td>-0.004367</td>\n",
       "    </tr>\n",
       "    <tr>\n",
       "      <th>Vendor Number</th>\n",
       "      <td>-0.004533</td>\n",
       "      <td>-0.002073</td>\n",
       "      <td>0.001746</td>\n",
       "      <td>0.091920</td>\n",
       "      <td>1.000000</td>\n",
       "      <td>0.136120</td>\n",
       "      <td>0.024561</td>\n",
       "      <td>0.003477</td>\n",
       "      <td>0.003085</td>\n",
       "      <td>-0.002116</td>\n",
       "      <td>-0.012277</td>\n",
       "      <td>-0.007432</td>\n",
       "      <td>-0.007428</td>\n",
       "    </tr>\n",
       "    <tr>\n",
       "      <th>Item Number</th>\n",
       "      <td>-0.026386</td>\n",
       "      <td>-0.004574</td>\n",
       "      <td>0.006810</td>\n",
       "      <td>0.116385</td>\n",
       "      <td>0.136120</td>\n",
       "      <td>1.000000</td>\n",
       "      <td>-0.057282</td>\n",
       "      <td>0.097879</td>\n",
       "      <td>0.097612</td>\n",
       "      <td>-0.004766</td>\n",
       "      <td>0.002987</td>\n",
       "      <td>-0.009555</td>\n",
       "      <td>-0.009545</td>\n",
       "    </tr>\n",
       "    <tr>\n",
       "      <th>Bottle Volume (ml)</th>\n",
       "      <td>-0.063475</td>\n",
       "      <td>-0.013221</td>\n",
       "      <td>-0.027694</td>\n",
       "      <td>-0.009294</td>\n",
       "      <td>0.024561</td>\n",
       "      <td>-0.057282</td>\n",
       "      <td>1.000000</td>\n",
       "      <td>0.312841</td>\n",
       "      <td>0.313819</td>\n",
       "      <td>-0.012476</td>\n",
       "      <td>0.082446</td>\n",
       "      <td>0.156258</td>\n",
       "      <td>0.156090</td>\n",
       "    </tr>\n",
       "    <tr>\n",
       "      <th>State Bottle Cost</th>\n",
       "      <td>-0.071382</td>\n",
       "      <td>-0.014589</td>\n",
       "      <td>0.012186</td>\n",
       "      <td>-0.013358</td>\n",
       "      <td>0.003477</td>\n",
       "      <td>0.097879</td>\n",
       "      <td>0.312841</td>\n",
       "      <td>1.000000</td>\n",
       "      <td>0.999960</td>\n",
       "      <td>-0.062980</td>\n",
       "      <td>0.135931</td>\n",
       "      <td>0.009296</td>\n",
       "      <td>0.009264</td>\n",
       "    </tr>\n",
       "    <tr>\n",
       "      <th>State Bottle Retail</th>\n",
       "      <td>-0.071520</td>\n",
       "      <td>-0.014614</td>\n",
       "      <td>0.012113</td>\n",
       "      <td>-0.013545</td>\n",
       "      <td>0.003085</td>\n",
       "      <td>0.097612</td>\n",
       "      <td>0.313819</td>\n",
       "      <td>0.999960</td>\n",
       "      <td>1.000000</td>\n",
       "      <td>-0.062831</td>\n",
       "      <td>0.136114</td>\n",
       "      <td>0.009736</td>\n",
       "      <td>0.009705</td>\n",
       "    </tr>\n",
       "    <tr>\n",
       "      <th>Bottles Sold</th>\n",
       "      <td>0.014422</td>\n",
       "      <td>0.005415</td>\n",
       "      <td>0.018945</td>\n",
       "      <td>-0.000208</td>\n",
       "      <td>-0.002116</td>\n",
       "      <td>-0.004766</td>\n",
       "      <td>-0.012476</td>\n",
       "      <td>-0.062980</td>\n",
       "      <td>-0.062831</td>\n",
       "      <td>1.000000</td>\n",
       "      <td>0.825446</td>\n",
       "      <td>0.883348</td>\n",
       "      <td>0.883378</td>\n",
       "    </tr>\n",
       "    <tr>\n",
       "      <th>Sale (Dollars)</th>\n",
       "      <td>-0.017941</td>\n",
       "      <td>0.000555</td>\n",
       "      <td>0.019851</td>\n",
       "      <td>0.006382</td>\n",
       "      <td>-0.012277</td>\n",
       "      <td>0.002987</td>\n",
       "      <td>0.082446</td>\n",
       "      <td>0.135931</td>\n",
       "      <td>0.136114</td>\n",
       "      <td>0.825446</td>\n",
       "      <td>1.000000</td>\n",
       "      <td>0.846420</td>\n",
       "      <td>0.846432</td>\n",
       "    </tr>\n",
       "    <tr>\n",
       "      <th>Volume Sold (Liters)</th>\n",
       "      <td>-0.017696</td>\n",
       "      <td>0.000717</td>\n",
       "      <td>0.010199</td>\n",
       "      <td>-0.004375</td>\n",
       "      <td>-0.007432</td>\n",
       "      <td>-0.009555</td>\n",
       "      <td>0.156258</td>\n",
       "      <td>0.009296</td>\n",
       "      <td>0.009736</td>\n",
       "      <td>0.883348</td>\n",
       "      <td>0.846420</td>\n",
       "      <td>1.000000</td>\n",
       "      <td>1.000000</td>\n",
       "    </tr>\n",
       "    <tr>\n",
       "      <th>Volume Sold (Gallons)</th>\n",
       "      <td>-0.017686</td>\n",
       "      <td>0.000719</td>\n",
       "      <td>0.010208</td>\n",
       "      <td>-0.004367</td>\n",
       "      <td>-0.007428</td>\n",
       "      <td>-0.009545</td>\n",
       "      <td>0.156090</td>\n",
       "      <td>0.009264</td>\n",
       "      <td>0.009705</td>\n",
       "      <td>0.883378</td>\n",
       "      <td>0.846432</td>\n",
       "      <td>1.000000</td>\n",
       "      <td>1.000000</td>\n",
       "    </tr>\n",
       "  </tbody>\n",
       "</table>\n",
       "</div>"
      ],
      "text/plain": [
       "                       Store Number  Zip Code  County Number  Category  \\\n",
       "Store Number               1.000000 -0.019848       0.007510 -0.012111   \n",
       "Zip Code                  -0.019848  1.000000      -0.015780 -0.000697   \n",
       "County Number              0.007510 -0.015780       1.000000 -0.006336   \n",
       "Category                  -0.012111 -0.000697      -0.006336  1.000000   \n",
       "Vendor Number             -0.004533 -0.002073       0.001746  0.091920   \n",
       "Item Number               -0.026386 -0.004574       0.006810  0.116385   \n",
       "Bottle Volume (ml)        -0.063475 -0.013221      -0.027694 -0.009294   \n",
       "State Bottle Cost         -0.071382 -0.014589       0.012186 -0.013358   \n",
       "State Bottle Retail       -0.071520 -0.014614       0.012113 -0.013545   \n",
       "Bottles Sold               0.014422  0.005415       0.018945 -0.000208   \n",
       "Sale (Dollars)            -0.017941  0.000555       0.019851  0.006382   \n",
       "Volume Sold (Liters)      -0.017696  0.000717       0.010199 -0.004375   \n",
       "Volume Sold (Gallons)     -0.017686  0.000719       0.010208 -0.004367   \n",
       "\n",
       "                       Vendor Number  Item Number  Bottle Volume (ml)  \\\n",
       "Store Number               -0.004533    -0.026386           -0.063475   \n",
       "Zip Code                   -0.002073    -0.004574           -0.013221   \n",
       "County Number               0.001746     0.006810           -0.027694   \n",
       "Category                    0.091920     0.116385           -0.009294   \n",
       "Vendor Number               1.000000     0.136120            0.024561   \n",
       "Item Number                 0.136120     1.000000           -0.057282   \n",
       "Bottle Volume (ml)          0.024561    -0.057282            1.000000   \n",
       "State Bottle Cost           0.003477     0.097879            0.312841   \n",
       "State Bottle Retail         0.003085     0.097612            0.313819   \n",
       "Bottles Sold               -0.002116    -0.004766           -0.012476   \n",
       "Sale (Dollars)             -0.012277     0.002987            0.082446   \n",
       "Volume Sold (Liters)       -0.007432    -0.009555            0.156258   \n",
       "Volume Sold (Gallons)      -0.007428    -0.009545            0.156090   \n",
       "\n",
       "                       State Bottle Cost  State Bottle Retail  Bottles Sold  \\\n",
       "Store Number                   -0.071382            -0.071520      0.014422   \n",
       "Zip Code                       -0.014589            -0.014614      0.005415   \n",
       "County Number                   0.012186             0.012113      0.018945   \n",
       "Category                       -0.013358            -0.013545     -0.000208   \n",
       "Vendor Number                   0.003477             0.003085     -0.002116   \n",
       "Item Number                     0.097879             0.097612     -0.004766   \n",
       "Bottle Volume (ml)              0.312841             0.313819     -0.012476   \n",
       "State Bottle Cost               1.000000             0.999960     -0.062980   \n",
       "State Bottle Retail             0.999960             1.000000     -0.062831   \n",
       "Bottles Sold                   -0.062980            -0.062831      1.000000   \n",
       "Sale (Dollars)                  0.135931             0.136114      0.825446   \n",
       "Volume Sold (Liters)            0.009296             0.009736      0.883348   \n",
       "Volume Sold (Gallons)           0.009264             0.009705      0.883378   \n",
       "\n",
       "                       Sale (Dollars)  Volume Sold (Liters)  \\\n",
       "Store Number                -0.017941             -0.017696   \n",
       "Zip Code                     0.000555              0.000717   \n",
       "County Number                0.019851              0.010199   \n",
       "Category                     0.006382             -0.004375   \n",
       "Vendor Number               -0.012277             -0.007432   \n",
       "Item Number                  0.002987             -0.009555   \n",
       "Bottle Volume (ml)           0.082446              0.156258   \n",
       "State Bottle Cost            0.135931              0.009296   \n",
       "State Bottle Retail          0.136114              0.009736   \n",
       "Bottles Sold                 0.825446              0.883348   \n",
       "Sale (Dollars)               1.000000              0.846420   \n",
       "Volume Sold (Liters)         0.846420              1.000000   \n",
       "Volume Sold (Gallons)        0.846432              1.000000   \n",
       "\n",
       "                       Volume Sold (Gallons)  \n",
       "Store Number                       -0.017686  \n",
       "Zip Code                            0.000719  \n",
       "County Number                       0.010208  \n",
       "Category                           -0.004367  \n",
       "Vendor Number                      -0.007428  \n",
       "Item Number                        -0.009545  \n",
       "Bottle Volume (ml)                  0.156090  \n",
       "State Bottle Cost                   0.009264  \n",
       "State Bottle Retail                 0.009705  \n",
       "Bottles Sold                        0.883378  \n",
       "Sale (Dollars)                      0.846432  \n",
       "Volume Sold (Liters)                1.000000  \n",
       "Volume Sold (Gallons)               1.000000  "
      ]
     },
     "execution_count": 8,
     "metadata": {},
     "output_type": "execute_result"
    }
   ],
   "source": [
    "df_main.corr()"
   ]
  },
  {
   "cell_type": "code",
   "execution_count": 9,
   "metadata": {
    "collapsed": false
   },
   "outputs": [
    {
     "data": {
      "text/plain": [
       "Date                     datetime64[ns]\n",
       "Store Number                      int64\n",
       "City                             object\n",
       "Zip Code                          int64\n",
       "County Number                   float64\n",
       "County                           object\n",
       "Category                        float64\n",
       "Category Name                    object\n",
       "Vendor Number                     int64\n",
       "Item Number                       int64\n",
       "Item Description                 object\n",
       "Bottle Volume (ml)                int64\n",
       "State Bottle Cost               float64\n",
       "State Bottle Retail             float64\n",
       "Bottles Sold                      int64\n",
       "Sale (Dollars)                  float64\n",
       "Volume Sold (Liters)            float64\n",
       "Volume Sold (Gallons)           float64\n",
       "dtype: object"
      ]
     },
     "execution_count": 9,
     "metadata": {},
     "output_type": "execute_result"
    }
   ],
   "source": [
    "df_main.dtypes"
   ]
  },
  {
   "cell_type": "markdown",
   "metadata": {},
   "source": [
    "# Nothing we care about has nulls so we'll be ok when we refine our X."
   ]
  },
  {
   "cell_type": "code",
   "execution_count": 10,
   "metadata": {
    "collapsed": false
   },
   "outputs": [
    {
     "data": {
      "text/plain": [
       "Date                        0\n",
       "Store Number                0\n",
       "City                        0\n",
       "Zip Code                    0\n",
       "County Number            1077\n",
       "County                   1077\n",
       "Category                   68\n",
       "Category Name             632\n",
       "Vendor Number               0\n",
       "Item Number                 0\n",
       "Item Description            0\n",
       "Bottle Volume (ml)          0\n",
       "State Bottle Cost           0\n",
       "State Bottle Retail         0\n",
       "Bottles Sold                0\n",
       "Sale (Dollars)              0\n",
       "Volume Sold (Liters)        0\n",
       "Volume Sold (Gallons)       0\n",
       "dtype: int64"
      ]
     },
     "execution_count": 10,
     "metadata": {},
     "output_type": "execute_result"
    }
   ],
   "source": [
    "df_main.isnull().sum()"
   ]
  },
  {
   "cell_type": "markdown",
   "metadata": {},
   "source": [
    "## Create a table for 2016 with sales between Jan and March"
   ]
  },
  {
   "cell_type": "code",
   "execution_count": 11,
   "metadata": {
    "collapsed": false
   },
   "outputs": [
    {
     "data": {
      "text/plain": [
       "(49791, 18)"
      ]
     },
     "execution_count": 11,
     "metadata": {},
     "output_type": "execute_result"
    }
   ],
   "source": [
    "df_main_2015_Q1 = df_main[(df_main.Date.dt.year == 2015) & (df_main.Date.dt.month <=3)]\n",
    "df_main_2015_Q1.shape"
   ]
  },
  {
   "cell_type": "markdown",
   "metadata": {},
   "source": [
    "# Create a table with 2015 Q2-Q4"
   ]
  },
  {
   "cell_type": "code",
   "execution_count": 12,
   "metadata": {
    "collapsed": false
   },
   "outputs": [
    {
     "data": {
      "text/plain": [
       "(168803, 18)"
      ]
     },
     "execution_count": 12,
     "metadata": {},
     "output_type": "execute_result"
    }
   ],
   "source": [
    "df_main_2015_Q2_Q3_Q4 = df_main[(df_main.Date.dt.year == 2015) & (df_main.Date.dt.month >3)]\n",
    "df_main_2015_Q2_Q3_Q4.shape"
   ]
  },
  {
   "cell_type": "markdown",
   "metadata": {},
   "source": [
    "# Create a table with 2016  "
   ]
  },
  {
   "cell_type": "code",
   "execution_count": 13,
   "metadata": {
    "collapsed": false
   },
   "outputs": [
    {
     "data": {
      "text/html": [
       "<div>\n",
       "<table border=\"1\" class=\"dataframe\">\n",
       "  <thead>\n",
       "    <tr style=\"text-align: right;\">\n",
       "      <th></th>\n",
       "      <th>Date</th>\n",
       "      <th>Store Number</th>\n",
       "      <th>City</th>\n",
       "      <th>Zip Code</th>\n",
       "      <th>County Number</th>\n",
       "      <th>County</th>\n",
       "      <th>Category</th>\n",
       "      <th>Category Name</th>\n",
       "      <th>Vendor Number</th>\n",
       "      <th>Item Number</th>\n",
       "      <th>Item Description</th>\n",
       "      <th>Bottle Volume (ml)</th>\n",
       "      <th>State Bottle Cost</th>\n",
       "      <th>State Bottle Retail</th>\n",
       "      <th>Bottles Sold</th>\n",
       "      <th>Sale (Dollars)</th>\n",
       "      <th>Volume Sold (Liters)</th>\n",
       "      <th>Volume Sold (Gallons)</th>\n",
       "    </tr>\n",
       "  </thead>\n",
       "  <tbody>\n",
       "    <tr>\n",
       "      <th>0</th>\n",
       "      <td>2015-11-04</td>\n",
       "      <td>3717</td>\n",
       "      <td>SUMNER</td>\n",
       "      <td>50674</td>\n",
       "      <td>9.0</td>\n",
       "      <td>Bremer</td>\n",
       "      <td>1051100.0</td>\n",
       "      <td>APRICOT BRANDIES</td>\n",
       "      <td>55</td>\n",
       "      <td>54436</td>\n",
       "      <td>Mr. Boston Apricot Brandy</td>\n",
       "      <td>750</td>\n",
       "      <td>4.50</td>\n",
       "      <td>6.75</td>\n",
       "      <td>12</td>\n",
       "      <td>81.00</td>\n",
       "      <td>9.0</td>\n",
       "      <td>2.38</td>\n",
       "    </tr>\n",
       "    <tr>\n",
       "      <th>1</th>\n",
       "      <td>2016-03-02</td>\n",
       "      <td>2614</td>\n",
       "      <td>DAVENPORT</td>\n",
       "      <td>52807</td>\n",
       "      <td>82.0</td>\n",
       "      <td>Scott</td>\n",
       "      <td>1011100.0</td>\n",
       "      <td>BLENDED WHISKIES</td>\n",
       "      <td>395</td>\n",
       "      <td>27605</td>\n",
       "      <td>Tin Cup</td>\n",
       "      <td>750</td>\n",
       "      <td>13.75</td>\n",
       "      <td>20.63</td>\n",
       "      <td>2</td>\n",
       "      <td>41.26</td>\n",
       "      <td>1.5</td>\n",
       "      <td>0.40</td>\n",
       "    </tr>\n",
       "    <tr>\n",
       "      <th>2</th>\n",
       "      <td>2016-02-11</td>\n",
       "      <td>2106</td>\n",
       "      <td>CEDAR FALLS</td>\n",
       "      <td>50613</td>\n",
       "      <td>7.0</td>\n",
       "      <td>Black Hawk</td>\n",
       "      <td>1011200.0</td>\n",
       "      <td>STRAIGHT BOURBON WHISKIES</td>\n",
       "      <td>65</td>\n",
       "      <td>19067</td>\n",
       "      <td>Jim Beam</td>\n",
       "      <td>1000</td>\n",
       "      <td>12.59</td>\n",
       "      <td>18.89</td>\n",
       "      <td>24</td>\n",
       "      <td>453.36</td>\n",
       "      <td>24.0</td>\n",
       "      <td>6.34</td>\n",
       "    </tr>\n",
       "    <tr>\n",
       "      <th>3</th>\n",
       "      <td>2016-02-03</td>\n",
       "      <td>2501</td>\n",
       "      <td>AMES</td>\n",
       "      <td>50010</td>\n",
       "      <td>85.0</td>\n",
       "      <td>Story</td>\n",
       "      <td>1071100.0</td>\n",
       "      <td>AMERICAN COCKTAILS</td>\n",
       "      <td>395</td>\n",
       "      <td>59154</td>\n",
       "      <td>1800 Ultimate Margarita</td>\n",
       "      <td>1750</td>\n",
       "      <td>9.50</td>\n",
       "      <td>14.25</td>\n",
       "      <td>6</td>\n",
       "      <td>85.50</td>\n",
       "      <td>10.5</td>\n",
       "      <td>2.77</td>\n",
       "    </tr>\n",
       "    <tr>\n",
       "      <th>4</th>\n",
       "      <td>2015-08-18</td>\n",
       "      <td>3654</td>\n",
       "      <td>BELMOND</td>\n",
       "      <td>50421</td>\n",
       "      <td>99.0</td>\n",
       "      <td>Wright</td>\n",
       "      <td>1031080.0</td>\n",
       "      <td>VODKA 80 PROOF</td>\n",
       "      <td>297</td>\n",
       "      <td>35918</td>\n",
       "      <td>Five O'clock Vodka</td>\n",
       "      <td>1750</td>\n",
       "      <td>7.20</td>\n",
       "      <td>10.80</td>\n",
       "      <td>12</td>\n",
       "      <td>129.60</td>\n",
       "      <td>21.0</td>\n",
       "      <td>5.55</td>\n",
       "    </tr>\n",
       "  </tbody>\n",
       "</table>\n",
       "</div>"
      ],
      "text/plain": [
       "        Date  Store Number         City  Zip Code  County Number      County  \\\n",
       "0 2015-11-04          3717       SUMNER     50674            9.0      Bremer   \n",
       "1 2016-03-02          2614    DAVENPORT     52807           82.0       Scott   \n",
       "2 2016-02-11          2106  CEDAR FALLS     50613            7.0  Black Hawk   \n",
       "3 2016-02-03          2501         AMES     50010           85.0       Story   \n",
       "4 2015-08-18          3654      BELMOND     50421           99.0      Wright   \n",
       "\n",
       "    Category              Category Name  Vendor Number  Item Number  \\\n",
       "0  1051100.0           APRICOT BRANDIES             55        54436   \n",
       "1  1011100.0           BLENDED WHISKIES            395        27605   \n",
       "2  1011200.0  STRAIGHT BOURBON WHISKIES             65        19067   \n",
       "3  1071100.0         AMERICAN COCKTAILS            395        59154   \n",
       "4  1031080.0             VODKA 80 PROOF            297        35918   \n",
       "\n",
       "            Item Description  Bottle Volume (ml)  State Bottle Cost  \\\n",
       "0  Mr. Boston Apricot Brandy                 750               4.50   \n",
       "1                    Tin Cup                 750              13.75   \n",
       "2                   Jim Beam                1000              12.59   \n",
       "3    1800 Ultimate Margarita                1750               9.50   \n",
       "4         Five O'clock Vodka                1750               7.20   \n",
       "\n",
       "   State Bottle Retail  Bottles Sold  Sale (Dollars)  Volume Sold (Liters)  \\\n",
       "0                 6.75            12           81.00                   9.0   \n",
       "1                20.63             2           41.26                   1.5   \n",
       "2                18.89            24          453.36                  24.0   \n",
       "3                14.25             6           85.50                  10.5   \n",
       "4                10.80            12          129.60                  21.0   \n",
       "\n",
       "   Volume Sold (Gallons)  \n",
       "0                   2.38  \n",
       "1                   0.40  \n",
       "2                   6.34  \n",
       "3                   2.77  \n",
       "4                   5.55  "
      ]
     },
     "execution_count": 13,
     "metadata": {},
     "output_type": "execute_result"
    }
   ],
   "source": [
    "df_main.head()"
   ]
  },
  {
   "cell_type": "code",
   "execution_count": 14,
   "metadata": {
    "collapsed": false
   },
   "outputs": [
    {
     "data": {
      "text/html": [
       "<div>\n",
       "<table border=\"1\" class=\"dataframe\">\n",
       "  <thead>\n",
       "    <tr style=\"text-align: right;\">\n",
       "      <th></th>\n",
       "      <th>Store Number</th>\n",
       "      <th>Zip Code</th>\n",
       "      <th>County Number</th>\n",
       "      <th>Category</th>\n",
       "      <th>Vendor Number</th>\n",
       "      <th>Item Number</th>\n",
       "      <th>Bottle Volume (ml)</th>\n",
       "      <th>State Bottle Cost</th>\n",
       "      <th>State Bottle Retail</th>\n",
       "      <th>Bottles Sold</th>\n",
       "      <th>Sale (Dollars)</th>\n",
       "      <th>Volume Sold (Liters)</th>\n",
       "      <th>Volume Sold (Gallons)</th>\n",
       "    </tr>\n",
       "  </thead>\n",
       "  <tbody>\n",
       "    <tr>\n",
       "      <th>count</th>\n",
       "      <td>270955.000000</td>\n",
       "      <td>270955.000000</td>\n",
       "      <td>269878.000000</td>\n",
       "      <td>2.708870e+05</td>\n",
       "      <td>270955.00000</td>\n",
       "      <td>270955.000000</td>\n",
       "      <td>270955.000000</td>\n",
       "      <td>270955.000000</td>\n",
       "      <td>270955.000000</td>\n",
       "      <td>270955.000000</td>\n",
       "      <td>270955.000000</td>\n",
       "      <td>270955.000000</td>\n",
       "      <td>270955.000000</td>\n",
       "    </tr>\n",
       "    <tr>\n",
       "      <th>mean</th>\n",
       "      <td>3590.263701</td>\n",
       "      <td>51228.853385</td>\n",
       "      <td>57.231642</td>\n",
       "      <td>1.043888e+06</td>\n",
       "      <td>256.43443</td>\n",
       "      <td>45974.963300</td>\n",
       "      <td>924.830341</td>\n",
       "      <td>9.773281</td>\n",
       "      <td>14.675760</td>\n",
       "      <td>9.871285</td>\n",
       "      <td>128.902375</td>\n",
       "      <td>8.981351</td>\n",
       "      <td>2.372830</td>\n",
       "    </tr>\n",
       "    <tr>\n",
       "      <th>std</th>\n",
       "      <td>947.662050</td>\n",
       "      <td>1592.618848</td>\n",
       "      <td>27.341205</td>\n",
       "      <td>5.018211e+04</td>\n",
       "      <td>141.01489</td>\n",
       "      <td>52757.043086</td>\n",
       "      <td>493.088489</td>\n",
       "      <td>7.047119</td>\n",
       "      <td>10.570145</td>\n",
       "      <td>24.040912</td>\n",
       "      <td>383.027369</td>\n",
       "      <td>28.913690</td>\n",
       "      <td>7.638182</td>\n",
       "    </tr>\n",
       "    <tr>\n",
       "      <th>min</th>\n",
       "      <td>2106.000000</td>\n",
       "      <td>7122.000000</td>\n",
       "      <td>1.000000</td>\n",
       "      <td>1.011100e+06</td>\n",
       "      <td>10.00000</td>\n",
       "      <td>168.000000</td>\n",
       "      <td>50.000000</td>\n",
       "      <td>0.890000</td>\n",
       "      <td>1.340000</td>\n",
       "      <td>1.000000</td>\n",
       "      <td>1.340000</td>\n",
       "      <td>0.100000</td>\n",
       "      <td>0.030000</td>\n",
       "    </tr>\n",
       "    <tr>\n",
       "      <th>25%</th>\n",
       "      <td>2604.000000</td>\n",
       "      <td>50315.000000</td>\n",
       "      <td>31.000000</td>\n",
       "      <td>1.012200e+06</td>\n",
       "      <td>115.00000</td>\n",
       "      <td>26827.000000</td>\n",
       "      <td>750.000000</td>\n",
       "      <td>5.500000</td>\n",
       "      <td>8.270000</td>\n",
       "      <td>2.000000</td>\n",
       "      <td>30.450000</td>\n",
       "      <td>1.500000</td>\n",
       "      <td>0.400000</td>\n",
       "    </tr>\n",
       "    <tr>\n",
       "      <th>50%</th>\n",
       "      <td>3722.000000</td>\n",
       "      <td>51101.000000</td>\n",
       "      <td>62.000000</td>\n",
       "      <td>1.031200e+06</td>\n",
       "      <td>260.00000</td>\n",
       "      <td>38176.000000</td>\n",
       "      <td>750.000000</td>\n",
       "      <td>8.000000</td>\n",
       "      <td>12.270000</td>\n",
       "      <td>6.000000</td>\n",
       "      <td>70.560000</td>\n",
       "      <td>5.250000</td>\n",
       "      <td>1.390000</td>\n",
       "    </tr>\n",
       "    <tr>\n",
       "      <th>75%</th>\n",
       "      <td>4378.000000</td>\n",
       "      <td>52310.000000</td>\n",
       "      <td>77.000000</td>\n",
       "      <td>1.062310e+06</td>\n",
       "      <td>380.00000</td>\n",
       "      <td>64573.000000</td>\n",
       "      <td>1000.000000</td>\n",
       "      <td>11.920000</td>\n",
       "      <td>17.880000</td>\n",
       "      <td>12.000000</td>\n",
       "      <td>135.000000</td>\n",
       "      <td>10.500000</td>\n",
       "      <td>2.770000</td>\n",
       "    </tr>\n",
       "    <tr>\n",
       "      <th>max</th>\n",
       "      <td>9023.000000</td>\n",
       "      <td>56201.000000</td>\n",
       "      <td>99.000000</td>\n",
       "      <td>1.701100e+06</td>\n",
       "      <td>978.00000</td>\n",
       "      <td>995507.000000</td>\n",
       "      <td>6000.000000</td>\n",
       "      <td>425.000000</td>\n",
       "      <td>637.500000</td>\n",
       "      <td>2508.000000</td>\n",
       "      <td>36392.400000</td>\n",
       "      <td>2508.000000</td>\n",
       "      <td>662.540000</td>\n",
       "    </tr>\n",
       "  </tbody>\n",
       "</table>\n",
       "</div>"
      ],
      "text/plain": [
       "        Store Number       Zip Code  County Number      Category  \\\n",
       "count  270955.000000  270955.000000  269878.000000  2.708870e+05   \n",
       "mean     3590.263701   51228.853385      57.231642  1.043888e+06   \n",
       "std       947.662050    1592.618848      27.341205  5.018211e+04   \n",
       "min      2106.000000    7122.000000       1.000000  1.011100e+06   \n",
       "25%      2604.000000   50315.000000      31.000000  1.012200e+06   \n",
       "50%      3722.000000   51101.000000      62.000000  1.031200e+06   \n",
       "75%      4378.000000   52310.000000      77.000000  1.062310e+06   \n",
       "max      9023.000000   56201.000000      99.000000  1.701100e+06   \n",
       "\n",
       "       Vendor Number    Item Number  Bottle Volume (ml)  State Bottle Cost  \\\n",
       "count   270955.00000  270955.000000       270955.000000      270955.000000   \n",
       "mean       256.43443   45974.963300          924.830341           9.773281   \n",
       "std        141.01489   52757.043086          493.088489           7.047119   \n",
       "min         10.00000     168.000000           50.000000           0.890000   \n",
       "25%        115.00000   26827.000000          750.000000           5.500000   \n",
       "50%        260.00000   38176.000000          750.000000           8.000000   \n",
       "75%        380.00000   64573.000000         1000.000000          11.920000   \n",
       "max        978.00000  995507.000000         6000.000000         425.000000   \n",
       "\n",
       "       State Bottle Retail   Bottles Sold  Sale (Dollars)  \\\n",
       "count        270955.000000  270955.000000   270955.000000   \n",
       "mean             14.675760       9.871285      128.902375   \n",
       "std              10.570145      24.040912      383.027369   \n",
       "min               1.340000       1.000000        1.340000   \n",
       "25%               8.270000       2.000000       30.450000   \n",
       "50%              12.270000       6.000000       70.560000   \n",
       "75%              17.880000      12.000000      135.000000   \n",
       "max             637.500000    2508.000000    36392.400000   \n",
       "\n",
       "       Volume Sold (Liters)  Volume Sold (Gallons)  \n",
       "count         270955.000000          270955.000000  \n",
       "mean               8.981351               2.372830  \n",
       "std               28.913690               7.638182  \n",
       "min                0.100000               0.030000  \n",
       "25%                1.500000               0.400000  \n",
       "50%                5.250000               1.390000  \n",
       "75%               10.500000               2.770000  \n",
       "max             2508.000000             662.540000  "
      ]
     },
     "execution_count": 14,
     "metadata": {},
     "output_type": "execute_result"
    }
   ],
   "source": [
    "df_main.describe()"
   ]
  },
  {
   "cell_type": "code",
   "execution_count": 15,
   "metadata": {
    "collapsed": false
   },
   "outputs": [
    {
     "data": {
      "text/plain": [
       "((218594, 18), (52361, 18))"
      ]
     },
     "execution_count": 15,
     "metadata": {},
     "output_type": "execute_result"
    }
   ],
   "source": [
    "df_main_2015 = df_main[(df_main.Date.dt.year == 2015)]\n",
    "\n",
    "df_main_2016 = df_main[(df_main.Date.dt.year == 2016)]\n",
    "df_main_2015.shape, df_main_2016.shape"
   ]
  },
  {
   "cell_type": "markdown",
   "metadata": {},
   "source": [
    "### Calculate the yearly liquor sales for each score using the provided data. You can add up the transactions for each year, and store sales in 2015 specifically will be used later as your target variable."
   ]
  },
  {
   "cell_type": "code",
   "execution_count": 16,
   "metadata": {
    "collapsed": false
   },
   "outputs": [],
   "source": [
    "df_main_2015_Q1_grouped = df_main_2015_Q1.groupby(by=df_main_2015_Q1['Store Number']).agg(sum)\n",
    "\n",
    "df_main_2015_Q2_Q3_Q4_grouped = df_main_2015_Q2_Q3_Q4.groupby(by=df_main_2015_Q2_Q3_Q4['Store Number']).agg(sum)\n",
    "\n",
    "df_main_2015_grouped = df_main_2015.groupby(by=df_main_2015['Store Number']).agg(sum)\n",
    "\n",
    "df_main_2016_grouped = df_main_2016.groupby(by=df_main_2016['Store Number']).agg(sum)\n"
   ]
  },
  {
   "cell_type": "code",
   "execution_count": 17,
   "metadata": {
    "collapsed": false
   },
   "outputs": [
    {
     "data": {
      "text/html": [
       "<div>\n",
       "<table border=\"1\" class=\"dataframe\">\n",
       "  <thead>\n",
       "    <tr style=\"text-align: right;\">\n",
       "      <th></th>\n",
       "      <th>Zip Code</th>\n",
       "      <th>County Number</th>\n",
       "      <th>Category</th>\n",
       "      <th>Vendor Number</th>\n",
       "      <th>Item Number</th>\n",
       "      <th>Bottle Volume (ml)</th>\n",
       "      <th>State Bottle Cost</th>\n",
       "      <th>State Bottle Retail</th>\n",
       "      <th>Bottles Sold</th>\n",
       "      <th>Sale (Dollars)</th>\n",
       "      <th>Volume Sold (Liters)</th>\n",
       "      <th>Volume Sold (Gallons)</th>\n",
       "    </tr>\n",
       "    <tr>\n",
       "      <th>Store Number</th>\n",
       "      <th></th>\n",
       "      <th></th>\n",
       "      <th></th>\n",
       "      <th></th>\n",
       "      <th></th>\n",
       "      <th></th>\n",
       "      <th></th>\n",
       "      <th></th>\n",
       "      <th></th>\n",
       "      <th></th>\n",
       "      <th></th>\n",
       "      <th></th>\n",
       "    </tr>\n",
       "  </thead>\n",
       "  <tbody>\n",
       "    <tr>\n",
       "      <th>2106</th>\n",
       "      <td>26673051</td>\n",
       "      <td>3689.0</td>\n",
       "      <td>552676623.0</td>\n",
       "      <td>143859</td>\n",
       "      <td>33565881</td>\n",
       "      <td>478600</td>\n",
       "      <td>5433.13</td>\n",
       "      <td>8155.78</td>\n",
       "      <td>10367</td>\n",
       "      <td>146326.22</td>\n",
       "      <td>9731.85</td>\n",
       "      <td>2571.33</td>\n",
       "    </tr>\n",
       "    <tr>\n",
       "      <th>2113</th>\n",
       "      <td>7429821</td>\n",
       "      <td>13818.0</td>\n",
       "      <td>152476254.0</td>\n",
       "      <td>34968</td>\n",
       "      <td>6358241</td>\n",
       "      <td>139125</td>\n",
       "      <td>1597.97</td>\n",
       "      <td>2398.40</td>\n",
       "      <td>671</td>\n",
       "      <td>9310.22</td>\n",
       "      <td>659.85</td>\n",
       "      <td>174.29</td>\n",
       "    </tr>\n",
       "    <tr>\n",
       "      <th>2130</th>\n",
       "      <td>19875576</td>\n",
       "      <td>2744.0</td>\n",
       "      <td>410299975.0</td>\n",
       "      <td>101684</td>\n",
       "      <td>20393760</td>\n",
       "      <td>364550</td>\n",
       "      <td>3856.67</td>\n",
       "      <td>5787.60</td>\n",
       "      <td>7430</td>\n",
       "      <td>111871.43</td>\n",
       "      <td>6891.37</td>\n",
       "      <td>1820.65</td>\n",
       "    </tr>\n",
       "    <tr>\n",
       "      <th>2152</th>\n",
       "      <td>7116129</td>\n",
       "      <td>2397.0</td>\n",
       "      <td>146806560.0</td>\n",
       "      <td>33833</td>\n",
       "      <td>5603803</td>\n",
       "      <td>149500</td>\n",
       "      <td>1207.67</td>\n",
       "      <td>1817.16</td>\n",
       "      <td>573</td>\n",
       "      <td>7721.08</td>\n",
       "      <td>633.37</td>\n",
       "      <td>167.28</td>\n",
       "    </tr>\n",
       "    <tr>\n",
       "      <th>2178</th>\n",
       "      <td>12364764</td>\n",
       "      <td>711.0</td>\n",
       "      <td>247477280.0</td>\n",
       "      <td>54476</td>\n",
       "      <td>10550395</td>\n",
       "      <td>241700</td>\n",
       "      <td>2296.49</td>\n",
       "      <td>3450.41</td>\n",
       "      <td>1928</td>\n",
       "      <td>24324.18</td>\n",
       "      <td>1917.12</td>\n",
       "      <td>506.50</td>\n",
       "    </tr>\n",
       "  </tbody>\n",
       "</table>\n",
       "</div>"
      ],
      "text/plain": [
       "              Zip Code  County Number     Category  Vendor Number  \\\n",
       "Store Number                                                        \n",
       "2106          26673051         3689.0  552676623.0         143859   \n",
       "2113           7429821        13818.0  152476254.0          34968   \n",
       "2130          19875576         2744.0  410299975.0         101684   \n",
       "2152           7116129         2397.0  146806560.0          33833   \n",
       "2178          12364764          711.0  247477280.0          54476   \n",
       "\n",
       "              Item Number  Bottle Volume (ml)  State Bottle Cost  \\\n",
       "Store Number                                                       \n",
       "2106             33565881              478600            5433.13   \n",
       "2113              6358241              139125            1597.97   \n",
       "2130             20393760              364550            3856.67   \n",
       "2152              5603803              149500            1207.67   \n",
       "2178             10550395              241700            2296.49   \n",
       "\n",
       "              State Bottle Retail  Bottles Sold  Sale (Dollars)  \\\n",
       "Store Number                                                      \n",
       "2106                      8155.78         10367       146326.22   \n",
       "2113                      2398.40           671         9310.22   \n",
       "2130                      5787.60          7430       111871.43   \n",
       "2152                      1817.16           573         7721.08   \n",
       "2178                      3450.41          1928        24324.18   \n",
       "\n",
       "              Volume Sold (Liters)  Volume Sold (Gallons)  \n",
       "Store Number                                               \n",
       "2106                       9731.85                2571.33  \n",
       "2113                        659.85                 174.29  \n",
       "2130                       6891.37                1820.65  \n",
       "2152                        633.37                 167.28  \n",
       "2178                       1917.12                 506.50  "
      ]
     },
     "execution_count": 17,
     "metadata": {},
     "output_type": "execute_result"
    }
   ],
   "source": [
    "df_main_2015_grouped.head()"
   ]
  },
  {
   "cell_type": "code",
   "execution_count": 18,
   "metadata": {
    "collapsed": false
   },
   "outputs": [
    {
     "data": {
      "text/html": [
       "<div>\n",
       "<table border=\"1\" class=\"dataframe\">\n",
       "  <thead>\n",
       "    <tr style=\"text-align: right;\">\n",
       "      <th></th>\n",
       "      <th>Zip Code</th>\n",
       "      <th>County Number</th>\n",
       "      <th>Category</th>\n",
       "      <th>Vendor Number</th>\n",
       "      <th>Item Number</th>\n",
       "      <th>Bottle Volume (ml)</th>\n",
       "      <th>State Bottle Cost</th>\n",
       "      <th>State Bottle Retail</th>\n",
       "      <th>Bottles Sold</th>\n",
       "      <th>Sale (Dollars)</th>\n",
       "      <th>Volume Sold (Liters)</th>\n",
       "      <th>Volume Sold (Gallons)</th>\n",
       "    </tr>\n",
       "    <tr>\n",
       "      <th>Store Number</th>\n",
       "      <th></th>\n",
       "      <th></th>\n",
       "      <th></th>\n",
       "      <th></th>\n",
       "      <th></th>\n",
       "      <th></th>\n",
       "      <th></th>\n",
       "      <th></th>\n",
       "      <th></th>\n",
       "      <th></th>\n",
       "      <th></th>\n",
       "      <th></th>\n",
       "    </tr>\n",
       "  </thead>\n",
       "  <tbody>\n",
       "    <tr>\n",
       "      <th>2106</th>\n",
       "      <td>6427851</td>\n",
       "      <td>889.0</td>\n",
       "      <td>133537904.0</td>\n",
       "      <td>31913</td>\n",
       "      <td>7910816</td>\n",
       "      <td>118750</td>\n",
       "      <td>1320.79</td>\n",
       "      <td>1983.05</td>\n",
       "      <td>2220</td>\n",
       "      <td>30523.75</td>\n",
       "      <td>2117.75</td>\n",
       "      <td>559.52</td>\n",
       "    </tr>\n",
       "    <tr>\n",
       "      <th>2113</th>\n",
       "      <td>1870091</td>\n",
       "      <td>3478.0</td>\n",
       "      <td>38730832.0</td>\n",
       "      <td>8255</td>\n",
       "      <td>1837025</td>\n",
       "      <td>36500</td>\n",
       "      <td>396.25</td>\n",
       "      <td>594.86</td>\n",
       "      <td>159</td>\n",
       "      <td>2065.90</td>\n",
       "      <td>177.00</td>\n",
       "      <td>46.74</td>\n",
       "    </tr>\n",
       "    <tr>\n",
       "      <th>2130</th>\n",
       "      <td>5932251</td>\n",
       "      <td>819.0</td>\n",
       "      <td>122392099.0</td>\n",
       "      <td>28238</td>\n",
       "      <td>5681372</td>\n",
       "      <td>111825</td>\n",
       "      <td>1242.55</td>\n",
       "      <td>1864.08</td>\n",
       "      <td>1726</td>\n",
       "      <td>27856.11</td>\n",
       "      <td>1556.90</td>\n",
       "      <td>411.33</td>\n",
       "    </tr>\n",
       "    <tr>\n",
       "      <th>2152</th>\n",
       "      <td>1514070</td>\n",
       "      <td>340.0</td>\n",
       "      <td>31222215.0</td>\n",
       "      <td>6938</td>\n",
       "      <td>1156697</td>\n",
       "      <td>32000</td>\n",
       "      <td>253.79</td>\n",
       "      <td>381.35</td>\n",
       "      <td>136</td>\n",
       "      <td>1376.43</td>\n",
       "      <td>140.13</td>\n",
       "      <td>37.01</td>\n",
       "    </tr>\n",
       "    <tr>\n",
       "      <th>2178</th>\n",
       "      <td>3025976</td>\n",
       "      <td>174.0</td>\n",
       "      <td>60505892.0</td>\n",
       "      <td>15952</td>\n",
       "      <td>3510631</td>\n",
       "      <td>61175</td>\n",
       "      <td>537.45</td>\n",
       "      <td>807.09</td>\n",
       "      <td>480</td>\n",
       "      <td>5588.50</td>\n",
       "      <td>520.80</td>\n",
       "      <td>137.59</td>\n",
       "    </tr>\n",
       "  </tbody>\n",
       "</table>\n",
       "</div>"
      ],
      "text/plain": [
       "              Zip Code  County Number     Category  Vendor Number  \\\n",
       "Store Number                                                        \n",
       "2106           6427851          889.0  133537904.0          31913   \n",
       "2113           1870091         3478.0   38730832.0           8255   \n",
       "2130           5932251          819.0  122392099.0          28238   \n",
       "2152           1514070          340.0   31222215.0           6938   \n",
       "2178           3025976          174.0   60505892.0          15952   \n",
       "\n",
       "              Item Number  Bottle Volume (ml)  State Bottle Cost  \\\n",
       "Store Number                                                       \n",
       "2106              7910816              118750            1320.79   \n",
       "2113              1837025               36500             396.25   \n",
       "2130              5681372              111825            1242.55   \n",
       "2152              1156697               32000             253.79   \n",
       "2178              3510631               61175             537.45   \n",
       "\n",
       "              State Bottle Retail  Bottles Sold  Sale (Dollars)  \\\n",
       "Store Number                                                      \n",
       "2106                      1983.05          2220        30523.75   \n",
       "2113                       594.86           159         2065.90   \n",
       "2130                      1864.08          1726        27856.11   \n",
       "2152                       381.35           136         1376.43   \n",
       "2178                       807.09           480         5588.50   \n",
       "\n",
       "              Volume Sold (Liters)  Volume Sold (Gallons)  \n",
       "Store Number                                               \n",
       "2106                       2117.75                 559.52  \n",
       "2113                        177.00                  46.74  \n",
       "2130                       1556.90                 411.33  \n",
       "2152                        140.13                  37.01  \n",
       "2178                        520.80                 137.59  "
      ]
     },
     "execution_count": 18,
     "metadata": {},
     "output_type": "execute_result"
    }
   ],
   "source": [
    "df_main_2016_grouped.head()"
   ]
  },
  {
   "cell_type": "code",
   "execution_count": 19,
   "metadata": {
    "collapsed": false
   },
   "outputs": [
    {
     "data": {
      "text/plain": [
       "[(1262, 12), (1339, 12)]"
      ]
     },
     "execution_count": 19,
     "metadata": {},
     "output_type": "execute_result"
    }
   ],
   "source": [
    "[f.shape for f in df_main_2015_Q1_grouped, df_main_2015_Q2_Q3_Q4_grouped]"
   ]
  },
  {
   "cell_type": "markdown",
   "metadata": {},
   "source": [
    "#  X is df_main_2015_Q1 and Y is df_main_Q2_Q3_Q4"
   ]
  },
  {
   "cell_type": "code",
   "execution_count": 20,
   "metadata": {
    "collapsed": false
   },
   "outputs": [
    {
     "data": {
      "text/html": [
       "<div>\n",
       "<table border=\"1\" class=\"dataframe\">\n",
       "  <thead>\n",
       "    <tr style=\"text-align: right;\">\n",
       "      <th></th>\n",
       "      <th>Zip Code</th>\n",
       "      <th>County Number</th>\n",
       "      <th>Category</th>\n",
       "      <th>Vendor Number</th>\n",
       "      <th>Item Number</th>\n",
       "      <th>Bottle Volume (ml)</th>\n",
       "      <th>State Bottle Cost</th>\n",
       "      <th>State Bottle Retail</th>\n",
       "      <th>Bottles Sold</th>\n",
       "      <th>Sale (Dollars)</th>\n",
       "      <th>Volume Sold (Liters)</th>\n",
       "      <th>Volume Sold (Gallons)</th>\n",
       "    </tr>\n",
       "  </thead>\n",
       "  <tbody>\n",
       "    <tr>\n",
       "      <th>Zip Code</th>\n",
       "      <td>1.000000</td>\n",
       "      <td>0.887680</td>\n",
       "      <td>0.999469</td>\n",
       "      <td>0.996429</td>\n",
       "      <td>0.949650</td>\n",
       "      <td>0.987037</td>\n",
       "      <td>0.984536</td>\n",
       "      <td>0.984576</td>\n",
       "      <td>0.754871</td>\n",
       "      <td>0.719930</td>\n",
       "      <td>0.728303</td>\n",
       "      <td>0.728333</td>\n",
       "    </tr>\n",
       "    <tr>\n",
       "      <th>County Number</th>\n",
       "      <td>0.887680</td>\n",
       "      <td>1.000000</td>\n",
       "      <td>0.889281</td>\n",
       "      <td>0.886253</td>\n",
       "      <td>0.847439</td>\n",
       "      <td>0.871694</td>\n",
       "      <td>0.889599</td>\n",
       "      <td>0.889594</td>\n",
       "      <td>0.725241</td>\n",
       "      <td>0.696818</td>\n",
       "      <td>0.694651</td>\n",
       "      <td>0.694692</td>\n",
       "    </tr>\n",
       "    <tr>\n",
       "      <th>Category</th>\n",
       "      <td>0.999469</td>\n",
       "      <td>0.889281</td>\n",
       "      <td>1.000000</td>\n",
       "      <td>0.997118</td>\n",
       "      <td>0.950575</td>\n",
       "      <td>0.987726</td>\n",
       "      <td>0.985773</td>\n",
       "      <td>0.985810</td>\n",
       "      <td>0.756794</td>\n",
       "      <td>0.722230</td>\n",
       "      <td>0.730469</td>\n",
       "      <td>0.730499</td>\n",
       "    </tr>\n",
       "    <tr>\n",
       "      <th>Vendor Number</th>\n",
       "      <td>0.996429</td>\n",
       "      <td>0.886253</td>\n",
       "      <td>0.997118</td>\n",
       "      <td>1.000000</td>\n",
       "      <td>0.959002</td>\n",
       "      <td>0.985805</td>\n",
       "      <td>0.984905</td>\n",
       "      <td>0.984940</td>\n",
       "      <td>0.759568</td>\n",
       "      <td>0.725729</td>\n",
       "      <td>0.733695</td>\n",
       "      <td>0.733724</td>\n",
       "    </tr>\n",
       "    <tr>\n",
       "      <th>Item Number</th>\n",
       "      <td>0.949650</td>\n",
       "      <td>0.847439</td>\n",
       "      <td>0.950575</td>\n",
       "      <td>0.959002</td>\n",
       "      <td>1.000000</td>\n",
       "      <td>0.934811</td>\n",
       "      <td>0.949680</td>\n",
       "      <td>0.949679</td>\n",
       "      <td>0.759978</td>\n",
       "      <td>0.732317</td>\n",
       "      <td>0.732255</td>\n",
       "      <td>0.732284</td>\n",
       "    </tr>\n",
       "    <tr>\n",
       "      <th>Bottle Volume (ml)</th>\n",
       "      <td>0.987037</td>\n",
       "      <td>0.871694</td>\n",
       "      <td>0.987726</td>\n",
       "      <td>0.985805</td>\n",
       "      <td>0.934811</td>\n",
       "      <td>1.000000</td>\n",
       "      <td>0.983207</td>\n",
       "      <td>0.983280</td>\n",
       "      <td>0.757304</td>\n",
       "      <td>0.732436</td>\n",
       "      <td>0.749182</td>\n",
       "      <td>0.749195</td>\n",
       "    </tr>\n",
       "    <tr>\n",
       "      <th>State Bottle Cost</th>\n",
       "      <td>0.984536</td>\n",
       "      <td>0.889599</td>\n",
       "      <td>0.985773</td>\n",
       "      <td>0.984905</td>\n",
       "      <td>0.949680</td>\n",
       "      <td>0.983207</td>\n",
       "      <td>1.000000</td>\n",
       "      <td>1.000000</td>\n",
       "      <td>0.790800</td>\n",
       "      <td>0.773345</td>\n",
       "      <td>0.771789</td>\n",
       "      <td>0.771814</td>\n",
       "    </tr>\n",
       "    <tr>\n",
       "      <th>State Bottle Retail</th>\n",
       "      <td>0.984576</td>\n",
       "      <td>0.889594</td>\n",
       "      <td>0.985810</td>\n",
       "      <td>0.984940</td>\n",
       "      <td>0.949679</td>\n",
       "      <td>0.983280</td>\n",
       "      <td>1.000000</td>\n",
       "      <td>1.000000</td>\n",
       "      <td>0.790735</td>\n",
       "      <td>0.773261</td>\n",
       "      <td>0.771752</td>\n",
       "      <td>0.771777</td>\n",
       "    </tr>\n",
       "    <tr>\n",
       "      <th>Bottles Sold</th>\n",
       "      <td>0.754871</td>\n",
       "      <td>0.725241</td>\n",
       "      <td>0.756794</td>\n",
       "      <td>0.759568</td>\n",
       "      <td>0.759978</td>\n",
       "      <td>0.757304</td>\n",
       "      <td>0.790800</td>\n",
       "      <td>0.790735</td>\n",
       "      <td>1.000000</td>\n",
       "      <td>0.985821</td>\n",
       "      <td>0.983907</td>\n",
       "      <td>0.983924</td>\n",
       "    </tr>\n",
       "    <tr>\n",
       "      <th>Sale (Dollars)</th>\n",
       "      <td>0.719930</td>\n",
       "      <td>0.696818</td>\n",
       "      <td>0.722230</td>\n",
       "      <td>0.725729</td>\n",
       "      <td>0.732317</td>\n",
       "      <td>0.732436</td>\n",
       "      <td>0.773345</td>\n",
       "      <td>0.773261</td>\n",
       "      <td>0.985821</td>\n",
       "      <td>1.000000</td>\n",
       "      <td>0.986705</td>\n",
       "      <td>0.986713</td>\n",
       "    </tr>\n",
       "    <tr>\n",
       "      <th>Volume Sold (Liters)</th>\n",
       "      <td>0.728303</td>\n",
       "      <td>0.694651</td>\n",
       "      <td>0.730469</td>\n",
       "      <td>0.733695</td>\n",
       "      <td>0.732255</td>\n",
       "      <td>0.749182</td>\n",
       "      <td>0.771789</td>\n",
       "      <td>0.771752</td>\n",
       "      <td>0.983907</td>\n",
       "      <td>0.986705</td>\n",
       "      <td>1.000000</td>\n",
       "      <td>1.000000</td>\n",
       "    </tr>\n",
       "    <tr>\n",
       "      <th>Volume Sold (Gallons)</th>\n",
       "      <td>0.728333</td>\n",
       "      <td>0.694692</td>\n",
       "      <td>0.730499</td>\n",
       "      <td>0.733724</td>\n",
       "      <td>0.732284</td>\n",
       "      <td>0.749195</td>\n",
       "      <td>0.771814</td>\n",
       "      <td>0.771777</td>\n",
       "      <td>0.983924</td>\n",
       "      <td>0.986713</td>\n",
       "      <td>1.000000</td>\n",
       "      <td>1.000000</td>\n",
       "    </tr>\n",
       "  </tbody>\n",
       "</table>\n",
       "</div>"
      ],
      "text/plain": [
       "                       Zip Code  County Number  Category  Vendor Number  \\\n",
       "Zip Code               1.000000       0.887680  0.999469       0.996429   \n",
       "County Number          0.887680       1.000000  0.889281       0.886253   \n",
       "Category               0.999469       0.889281  1.000000       0.997118   \n",
       "Vendor Number          0.996429       0.886253  0.997118       1.000000   \n",
       "Item Number            0.949650       0.847439  0.950575       0.959002   \n",
       "Bottle Volume (ml)     0.987037       0.871694  0.987726       0.985805   \n",
       "State Bottle Cost      0.984536       0.889599  0.985773       0.984905   \n",
       "State Bottle Retail    0.984576       0.889594  0.985810       0.984940   \n",
       "Bottles Sold           0.754871       0.725241  0.756794       0.759568   \n",
       "Sale (Dollars)         0.719930       0.696818  0.722230       0.725729   \n",
       "Volume Sold (Liters)   0.728303       0.694651  0.730469       0.733695   \n",
       "Volume Sold (Gallons)  0.728333       0.694692  0.730499       0.733724   \n",
       "\n",
       "                       Item Number  Bottle Volume (ml)  State Bottle Cost  \\\n",
       "Zip Code                  0.949650            0.987037           0.984536   \n",
       "County Number             0.847439            0.871694           0.889599   \n",
       "Category                  0.950575            0.987726           0.985773   \n",
       "Vendor Number             0.959002            0.985805           0.984905   \n",
       "Item Number               1.000000            0.934811           0.949680   \n",
       "Bottle Volume (ml)        0.934811            1.000000           0.983207   \n",
       "State Bottle Cost         0.949680            0.983207           1.000000   \n",
       "State Bottle Retail       0.949679            0.983280           1.000000   \n",
       "Bottles Sold              0.759978            0.757304           0.790800   \n",
       "Sale (Dollars)            0.732317            0.732436           0.773345   \n",
       "Volume Sold (Liters)      0.732255            0.749182           0.771789   \n",
       "Volume Sold (Gallons)     0.732284            0.749195           0.771814   \n",
       "\n",
       "                       State Bottle Retail  Bottles Sold  Sale (Dollars)  \\\n",
       "Zip Code                          0.984576      0.754871        0.719930   \n",
       "County Number                     0.889594      0.725241        0.696818   \n",
       "Category                          0.985810      0.756794        0.722230   \n",
       "Vendor Number                     0.984940      0.759568        0.725729   \n",
       "Item Number                       0.949679      0.759978        0.732317   \n",
       "Bottle Volume (ml)                0.983280      0.757304        0.732436   \n",
       "State Bottle Cost                 1.000000      0.790800        0.773345   \n",
       "State Bottle Retail               1.000000      0.790735        0.773261   \n",
       "Bottles Sold                      0.790735      1.000000        0.985821   \n",
       "Sale (Dollars)                    0.773261      0.985821        1.000000   \n",
       "Volume Sold (Liters)              0.771752      0.983907        0.986705   \n",
       "Volume Sold (Gallons)             0.771777      0.983924        0.986713   \n",
       "\n",
       "                       Volume Sold (Liters)  Volume Sold (Gallons)  \n",
       "Zip Code                           0.728303               0.728333  \n",
       "County Number                      0.694651               0.694692  \n",
       "Category                           0.730469               0.730499  \n",
       "Vendor Number                      0.733695               0.733724  \n",
       "Item Number                        0.732255               0.732284  \n",
       "Bottle Volume (ml)                 0.749182               0.749195  \n",
       "State Bottle Cost                  0.771789               0.771814  \n",
       "State Bottle Retail                0.771752               0.771777  \n",
       "Bottles Sold                       0.983907               0.983924  \n",
       "Sale (Dollars)                     0.986705               0.986713  \n",
       "Volume Sold (Liters)               1.000000               1.000000  \n",
       "Volume Sold (Gallons)              1.000000               1.000000  "
      ]
     },
     "execution_count": 20,
     "metadata": {},
     "output_type": "execute_result"
    }
   ],
   "source": [
    "df_main_2015_Q1_grouped.corr()"
   ]
  },
  {
   "cell_type": "markdown",
   "metadata": {},
   "source": [
    "Use the data from 2015 to make a linear model using as many variables as you find useful to predict the yearly sales of each store. You must use the sales from Jan to March per store as one of your variables.\n",
    "\n",
    "Use your model for 2015 to estimate total sales for each store in 2016, extrapolating from the sales so far for Jan-March of 2016.\n",
    "\n",
    "Report your findings, including any projected increase or decrease in total sales (over the entire state) for the tax committee of the Iowa legislature.\n",
    "\n",
    "Use cross-validation to check how your model predicts to held out data compared to the model metrics on the full dataset.\n",
    "\n",
    "Challenging Bonus: We did not cover the topics of regularization for linear regression this week, but those feeling bold can try to use and understand regularizing linear regressions. This will require self-guided research/reading and scikit-learn functions that we have not gone over in class! Use cross-validation to tune the regularization parameter that maximizes R^2 on your holdout sets for the Ridge regression and the Lasso Regression. Do the regularized models perform better than the non-regularized model? Which regularized model performs better? What is the Ridge regression doing? What is the Lasso doing."
   ]
  },
  {
   "cell_type": "markdown",
   "metadata": {},
   "source": [
    "## Record your findings\n",
    "\n",
    "Be sure to write out anything observations from your exploratory analysis."
   ]
  },
  {
   "cell_type": "markdown",
   "metadata": {},
   "source": [
    "# Mine the data\n",
    "Now you are ready to compute the variables you will use for your regression from the data. For example, you may want to\n",
    "compute total sales per store from Jan to March of 2015, mean price per bottle, etc. Refer to the readme for more ideas appropriate to your scenario.\n",
    "\n",
    "Pandas is your friend for this task. Take a look at the operations [here](http://pandas.pydata.org/pandas-docs/stable/groupby.html) for ideas on how to make the best use of pandas and feel free to search for blog and Stack Overflow posts to help you group data by certain variables and compute sums, means, etc. You may find it useful to create a new data frame to house this summary data."
   ]
  },
  {
   "cell_type": "markdown",
   "metadata": {},
   "source": [
    "# Refine the data\n",
    "Look for any statistical relationships, correlations, or other relevant properties of the dataset."
   ]
  },
  {
   "cell_type": "markdown",
   "metadata": {},
   "source": [
    "# Build your models\n",
    "\n",
    "Using scikit-learn or statsmodels, build the necessary models for your scenario. Evaluate model fit."
   ]
  },
  {
   "cell_type": "markdown",
   "metadata": {},
   "source": [
    "# For 2015 Q1, let's see how well sales can be predicted for this time period, using three of well correlating variables. "
   ]
  },
  {
   "cell_type": "code",
   "execution_count": 21,
   "metadata": {
    "collapsed": false
   },
   "outputs": [],
   "source": [
    "scaler = preprocessing.StandardScaler()\n",
    "X = df_main_2015_Q1_grouped[['State Bottle Retail', 'Volume Sold (Liters)', 'Bottle Volume (ml)']]\n",
    "X_scale = scaler.fit_transform(X)\n",
    "Y = df_main_2015_Q1_grouped['Sale (Dollars)']"
   ]
  },
  {
   "cell_type": "code",
   "execution_count": 22,
   "metadata": {
    "collapsed": false
   },
   "outputs": [],
   "source": [
    "X_train, X_test, y_train, y_test = sklearn.model_selection.train_test_split(X, Y, test_size=0.3)"
   ]
  },
  {
   "cell_type": "markdown",
   "metadata": {},
   "source": [
    "# We build a model by fitting linear regression to predictors of 2015 Q1 and Sales for 2015 Q1. We see how well the model can predict sales for 2015 Q1. "
   ]
  },
  {
   "cell_type": "code",
   "execution_count": 23,
   "metadata": {
    "collapsed": false
   },
   "outputs": [
    {
     "name": "stdout",
     "output_type": "stream",
     "text": [
      "Model Fit:  0.984408063835\n",
      "[  8.00678056  15.01341449  -0.13304896] 14.6597878515\n",
      "MSE: 0.984408063835\n"
     ]
    }
   ],
   "source": [
    "lm = linear_model.LinearRegression(fit_intercept=True)\n",
    "lm.fit(X,Y)\n",
    "predictions_lm = lm.predict(X)\n",
    "print \"Model Fit: \", lm.score(X,Y)\n",
    "print lm.coef_, lm.intercept_\n",
    "print \"MSE:\", sklearn.metrics.r2_score(Y, predictions_lm)"
   ]
  },
  {
   "cell_type": "markdown",
   "metadata": {},
   "source": [
    "# The model performs well with 98.44% accuracy. "
   ]
  },
  {
   "cell_type": "markdown",
   "metadata": {},
   "source": [
    "# Let's repeat the same steps with scaled X values."
   ]
  },
  {
   "cell_type": "code",
   "execution_count": 24,
   "metadata": {
    "collapsed": false
   },
   "outputs": [
    {
     "name": "stdout",
     "output_type": "stream",
     "text": [
      "Model Fit:  0.984408063835\n",
      "[  6878.11447151  11005.91319851  -6529.92782283] 4876.22495246\n",
      "MSE: 0.984408063835\n"
     ]
    }
   ],
   "source": [
    "lm = linear_model.LinearRegression(fit_intercept=True)\n",
    "lm.fit(X_scale,Y)\n",
    "predictions_lm = lm.predict(X_scale)\n",
    "print \"Model Fit: \", lm.score(X_scale,Y)\n",
    "print lm.coef_, lm.intercept_\n",
    "print \"MSE:\", sklearn.metrics.r2_score(Y, predictions_lm)"
   ]
  },
  {
   "cell_type": "markdown",
   "metadata": {},
   "source": [
    "# Here we notice they perform exactly the same."
   ]
  },
  {
   "cell_type": "markdown",
   "metadata": {},
   "source": [
    "# Above, we split 2015 Q1 data in a 70:30 train:test ratio. Just for fun, let's train a model by fitting it on to the trained predictor and target, and using that model to predict sales given the test portion predictors. "
   ]
  },
  {
   "cell_type": "code",
   "execution_count": 25,
   "metadata": {
    "collapsed": false
   },
   "outputs": [
    {
     "name": "stdout",
     "output_type": "stream",
     "text": [
      "Model Fit:  0.98770812648\n",
      "Model Fit test:  0.955712774452\n",
      "[  8.06410539  15.22131237  -0.13560347] 21.9445495941\n",
      "MSE: 0.955712774452\n"
     ]
    }
   ],
   "source": [
    "#Initialize the regression object, and fit it on to the training predictors and target. \n",
    "lm = linear_model.LinearRegression(fit_intercept=True)\n",
    "lm.fit(X_train,y_train)\n",
    "# Using this model, let's predict sales using predictors from the test portion. \n",
    "predictions_lm = lm.predict(X_test)\n",
    "#Assess how accurate the predicted sales are compared to the actual sales values from the test portion.\n",
    "print \"Model Fit: \", lm.score(X_train,y_train)\n",
    "print \"Model Fit test: \", lm.score(X_test,y_test)\n",
    "print lm.coef_, lm.intercept_\n",
    "print \"MSE:\", sklearn.metrics.r2_score(y_test, predictions_lm)"
   ]
  },
  {
   "cell_type": "markdown",
   "metadata": {},
   "source": [
    "# The metrics here show a better score simply because the test target subset is smaller than the whole target column for 2015 Q1. "
   ]
  },
  {
   "cell_type": "markdown",
   "metadata": {},
   "source": [
    "# Model has good training error rate.  "
   ]
  },
  {
   "cell_type": "markdown",
   "metadata": {},
   "source": [
    "# Now let's try predicting sales of Q2-Q4 2015 using a model fitted on 2015 Q1 predictors and target.  I would suspect this wouldn't work as well, since the set for Q2-Q4 2015 is larger than Q1 2015."
   ]
  },
  {
   "cell_type": "markdown",
   "metadata": {},
   "source": [
    "Use model to predict 2015 Q2-Q4 sales"
   ]
  },
  {
   "cell_type": "code",
   "execution_count": 26,
   "metadata": {
    "collapsed": false
   },
   "outputs": [
    {
     "name": "stdout",
     "output_type": "stream",
     "text": [
      "Model Fit:  0.984408063835\n",
      "[  8.00678056  15.01341449  -0.13304896] 14.6597878515\n",
      "MSE: 0.991007132352\n"
     ]
    }
   ],
   "source": [
    "X = df_main_2015_Q1_grouped[['State Bottle Retail', 'Volume Sold (Liters)', 'Bottle Volume (ml)']]\n",
    "# X_scale = scaler.fit_transform(X)\n",
    "Y = df_main_2015_Q1_grouped['Sale (Dollars)']\n",
    "X_test = (df_main_2015_Q2_Q3_Q4_grouped[['State Bottle Retail', 'Volume Sold (Liters)', 'Bottle Volume (ml)']])\n",
    "Y_test = df_main_2015_Q2_Q3_Q4_grouped['Sale (Dollars)']\n",
    "lm = linear_model.LinearRegression(fit_intercept=True)\n",
    "lm.fit(X,Y)\n",
    "predictions_lm_2 = lm.predict(X_test)\n",
    "\n",
    "print \"Model Fit: \", lm.score(X,Y)\n",
    "print lm.coef_, lm.intercept_\n",
    "print \"MSE:\", sklearn.metrics.r2_score(Y_test, predictions_lm_2)"
   ]
  },
  {
   "cell_type": "markdown",
   "metadata": {},
   "source": [
    "# Totals"
   ]
  },
  {
   "cell_type": "code",
   "execution_count": 27,
   "metadata": {
    "collapsed": false
   },
   "outputs": [
    {
     "data": {
      "text/plain": [
       "('22,373,449', '22,471,493')"
      ]
     },
     "execution_count": 27,
     "metadata": {},
     "output_type": "execute_result"
    }
   ],
   "source": [
    "Y_test.sum(), predictions_lm_2.sum()\n",
    "import locale\n",
    "locale.setlocale(locale.LC_ALL, 'en_US')\n",
    "locale.format(\"%d\", Y_test.sum(), grouping=True), locale.format(\"%d\", predictions_lm_2.sum(), grouping=True)\n"
   ]
  },
  {
   "cell_type": "markdown",
   "metadata": {},
   "source": [
    "#  Alas, that was unexpected. "
   ]
  },
  {
   "cell_type": "markdown",
   "metadata": {},
   "source": [
    "# Let's try using 2015 Q2-Q4 to predict all of 2016."
   ]
  },
  {
   "cell_type": "code",
   "execution_count": 28,
   "metadata": {
    "collapsed": false
   },
   "outputs": [],
   "source": [
    "scaler = preprocessing.StandardScaler()\n",
    "X = df_main_2015_Q1_grouped[['State Bottle Retail', 'Volume Sold (Liters)', 'Bottle Volume (ml)']]\n",
    "# X = scaler.fit_transform(X)\n",
    "Y = df_main_2015_Q1_grouped['Sale (Dollars)']\n",
    "X_test = df_main_2016_grouped[['State Bottle Retail', 'Volume Sold (Liters)', 'Bottle Volume (ml)']]\n",
    "Y_test = df_main_2016_grouped['Sale (Dollars)']"
   ]
  },
  {
   "cell_type": "code",
   "execution_count": 29,
   "metadata": {
    "collapsed": false
   },
   "outputs": [
    {
     "name": "stdout",
     "output_type": "stream",
     "text": [
      "Model Fit:  0.984408063835\n",
      "[  8.00678056  15.01341449  -0.13304896] 14.6597878515\n",
      "MSE: 0.987726276948\n"
     ]
    }
   ],
   "source": [
    "lm = linear_model.LinearRegression(fit_intercept=True)\n",
    "lm.fit(X,Y)\n",
    "predictions_lm = lm.predict(X_test)\n",
    "print \"Model Fit: \", lm.score(X,Y)\n",
    "print lm.coef_, lm.intercept_\n",
    "print \"MSE:\", sklearn.metrics.r2_score(Y_test, predictions_lm)"
   ]
  },
  {
   "cell_type": "code",
   "execution_count": 30,
   "metadata": {
    "collapsed": false
   },
   "outputs": [
    {
     "data": {
      "text/plain": [
       "(1262, 1309)"
      ]
     },
     "execution_count": 30,
     "metadata": {},
     "output_type": "execute_result"
    }
   ],
   "source": [
    "len(X.index), len(X_test.index)"
   ]
  },
  {
   "cell_type": "code",
   "execution_count": 31,
   "metadata": {
    "collapsed": false
   },
   "outputs": [
    {
     "data": {
      "text/plain": [
       "['__abstractmethods__',\n",
       " '__class__',\n",
       " '__delattr__',\n",
       " '__dict__',\n",
       " '__doc__',\n",
       " '__format__',\n",
       " '__getattribute__',\n",
       " '__getstate__',\n",
       " '__hash__',\n",
       " '__init__',\n",
       " '__module__',\n",
       " '__new__',\n",
       " '__reduce__',\n",
       " '__reduce_ex__',\n",
       " '__repr__',\n",
       " '__setattr__',\n",
       " '__setstate__',\n",
       " '__sizeof__',\n",
       " '__str__',\n",
       " '__subclasshook__',\n",
       " '__weakref__',\n",
       " '_abc_cache',\n",
       " '_abc_negative_cache',\n",
       " '_abc_negative_cache_version',\n",
       " '_abc_registry',\n",
       " '_decision_function',\n",
       " '_estimator_type',\n",
       " '_get_param_names',\n",
       " '_preprocess_data',\n",
       " '_set_intercept',\n",
       " 'decision_function',\n",
       " 'fit',\n",
       " 'get_params',\n",
       " 'predict',\n",
       " 'residues_',\n",
       " 'score',\n",
       " 'set_params']"
      ]
     },
     "execution_count": 31,
     "metadata": {},
     "output_type": "execute_result"
    }
   ],
   "source": [
    "dir(linear_model.LinearRegression)"
   ]
  },
  {
   "cell_type": "code",
   "execution_count": 32,
   "metadata": {
    "collapsed": false
   },
   "outputs": [
    {
     "data": {
      "text/plain": [
       "(1262, 1309)"
      ]
     },
     "execution_count": 32,
     "metadata": {},
     "output_type": "execute_result"
    }
   ],
   "source": [
    "len(df_main_2015_Q1_grouped.index), len(df_main_2016_grouped.index)"
   ]
  },
  {
   "cell_type": "markdown",
   "metadata": {},
   "source": [
    "# Totals"
   ]
  },
  {
   "cell_type": "code",
   "execution_count": 33,
   "metadata": {
    "collapsed": false
   },
   "outputs": [
    {
     "data": {
      "text/plain": [
       "('6,399,497', '6,466,139')"
      ]
     },
     "execution_count": 33,
     "metadata": {},
     "output_type": "execute_result"
    }
   ],
   "source": [
    "locale.setlocale(locale.LC_ALL, 'en_US')\n",
    "locale.format(\"%d\", Y_test.sum(), grouping=True), locale.format(\"%d\", predictions_lm.sum(), grouping=True)"
   ]
  },
  {
   "cell_type": "markdown",
   "metadata": {},
   "source": [
    "# Same story as above. Perhaps the test set not being that much bigger than the training would explain the results. But again, what about variance?"
   ]
  },
  {
   "cell_type": "code",
   "execution_count": 34,
   "metadata": {
    "collapsed": false
   },
   "outputs": [
    {
     "name": "stdout",
     "output_type": "stream",
     "text": [
      "State Bottle Retail     7.385284e+05\n",
      "Volume Sold (Liters)    5.378207e+05\n",
      "Bottle Volume (ml)      2.410672e+09\n",
      "dtype: float64 \n",
      "\n",
      "State Bottle Retail     7.915282e+05\n",
      "Volume Sold (Liters)    5.790210e+05\n",
      "Bottle Volume (ml)      2.540228e+09\n",
      "dtype: float64\n"
     ]
    }
   ],
   "source": [
    "print X.var(), '\\n'\n",
    "print X_test.var()"
   ]
  },
  {
   "cell_type": "markdown",
   "metadata": {},
   "source": [
    "# Similar variance, despite the sets covering different spans of time periods. "
   ]
  },
  {
   "cell_type": "code",
   "execution_count": 35,
   "metadata": {
    "collapsed": false
   },
   "outputs": [],
   "source": [
    "scaler = preprocessing.StandardScaler()\n",
    "X = df_main_2015_Q1_grouped[['State Bottle Retail', 'Volume Sold (Liters)', 'Bottle Volume (ml)']]\n",
    "# scaler.fit_transform(X)\n",
    "Y = df_main_2015_Q1_grouped['Sale (Dollars)']\n",
    "X_test = df_main_2016_grouped[['State Bottle Retail', 'Volume Sold (Liters)', 'Bottle Volume (ml)']]\n",
    "Y_test = df_main_2016_grouped['Sale (Dollars)']"
   ]
  },
  {
   "cell_type": "code",
   "execution_count": 36,
   "metadata": {
    "collapsed": false
   },
   "outputs": [
    {
     "name": "stdout",
     "output_type": "stream",
     "text": [
      "Model Fit:  0.984408063835\n",
      "[  8.00678056  15.01341449  -0.13304896] 14.6597878515\n",
      "MSE: 0.987726276948\n"
     ]
    }
   ],
   "source": [
    "lm = linear_model.LinearRegression(fit_intercept=True)\n",
    "lm.fit(X,Y)\n",
    "predictions_lm = lm.predict(X_test)\n",
    "print \"Model Fit: \", lm.score(X, Y)\n",
    "print lm.coef_, lm.intercept_\n",
    "print \"MSE:\", sklearn.metrics.r2_score(Y_test, predictions_lm)"
   ]
  },
  {
   "cell_type": "markdown",
   "metadata": {},
   "source": [
    "# Totals"
   ]
  },
  {
   "cell_type": "code",
   "execution_count": 37,
   "metadata": {
    "collapsed": false
   },
   "outputs": [
    {
     "data": {
      "text/plain": [
       "('6,399,497', '6,466,139')"
      ]
     },
     "execution_count": 37,
     "metadata": {},
     "output_type": "execute_result"
    }
   ],
   "source": [
    "locale.setlocale(locale.LC_ALL, 'en_US')\n",
    "locale.format(\"%d\", Y_test.sum(), grouping=True), locale.format(\"%d\", predictions_lm.sum(), grouping=True)"
   ]
  },
  {
   "cell_type": "markdown",
   "metadata": {},
   "source": [
    "# Model seems to have good training error rate.  "
   ]
  },
  {
   "cell_type": "markdown",
   "metadata": {},
   "source": [
    "Use mode to predict all of 2016 sales"
   ]
  },
  {
   "cell_type": "markdown",
   "metadata": {},
   "source": [
    "# The MSE has improved, however it's still not a good fit. Let's try regularizing!"
   ]
  },
  {
   "cell_type": "markdown",
   "metadata": {
    "collapsed": true
   },
   "source": [
    "##  RIDGE"
   ]
  },
  {
   "cell_type": "code",
   "execution_count": 38,
   "metadata": {
    "collapsed": false
   },
   "outputs": [
    {
     "name": "stdout",
     "output_type": "stream",
     "text": [
      "[  8.00677963  15.01341438  -0.13304894] 14.6597277039\n",
      "r^2 Score: 0.987726277561\n"
     ]
    }
   ],
   "source": [
    "rlm = linear_model.Ridge(alpha=4, fit_intercept=True)\n",
    "ridge_model = rlm.fit(X, Y)\n",
    "predictions_ridge = ridge_model.predict(X_test)\n",
    "print ridge_model.coef_, ridge_model.intercept_\n",
    "print \"r^2 Score:\", ridge_model.score(X_test, Y_test)"
   ]
  },
  {
   "cell_type": "code",
   "execution_count": 39,
   "metadata": {
    "collapsed": false
   },
   "outputs": [
    {
     "data": {
      "image/png": "[encoded data removed]",
      "text/plain": [
       "<matplotlib.figure.Figure at 0x10e841990>"
      ]
     },
     "metadata": {},
     "output_type": "display_data"
    }
   ],
   "source": [
    "plt.scatter(predictions_ridge, Y_test, c='r', marker='+')\n",
    "plt.xlabel(\"Predicted Sales\")\n",
    "plt.ylabel(\"Actual Sales\")\n",
    "plt.title(\"Actual vs. Predicted for Ridge\")\n",
    "plt.show()"
   ]
  },
  {
   "cell_type": "markdown",
   "metadata": {},
   "source": [
    "# Totals"
   ]
  },
  {
   "cell_type": "code",
   "execution_count": 40,
   "metadata": {
    "collapsed": false
   },
   "outputs": [
    {
     "data": {
      "text/plain": [
       "('6,399,497', '6,466,139')"
      ]
     },
     "execution_count": 40,
     "metadata": {},
     "output_type": "execute_result"
    }
   ],
   "source": [
    "locale.setlocale(locale.LC_ALL, 'en_US')\n",
    "locale.format(\"%d\", Y_test.sum(), grouping=True), locale.format(\"%d\", predictions_ridge.sum(), grouping=True)"
   ]
  },
  {
   "cell_type": "markdown",
   "metadata": {},
   "source": [
    "## RIDGE CV"
   ]
  },
  {
   "cell_type": "code",
   "execution_count": 41,
   "metadata": {
    "collapsed": false
   },
   "outputs": [
    {
     "name": "stdout",
     "output_type": "stream",
     "text": [
      "[  8.00677963  15.01341438  -0.13304894] 14.6597277039\n",
      "r^2 Score: 0.987726277561\n"
     ]
    }
   ],
   "source": [
    "rlmcv = linear_model.RidgeCV(alphas=4, fit_intercept=True, cv=6)\n",
    "ridge_model_CV = rlm.fit(X, Y)\n",
    "predictions_ridge_cv = ridge_model.predict(X_test)\n",
    "print ridge_model_CV.coef_, ridge_model_CV.intercept_\n",
    "print \"r^2 Score:\", ridge_model_CV.score(X_test, Y_test)"
   ]
  },
  {
   "cell_type": "code",
   "execution_count": 42,
   "metadata": {
    "collapsed": false
   },
   "outputs": [
    {
     "data": {
      "image/png": "[encoded data removed]",
      "text/plain": [
       "<matplotlib.figure.Figure at 0x10e803bd0>"
      ]
     },
     "metadata": {},
     "output_type": "display_data"
    }
   ],
   "source": [
    "plt.scatter(predictions_ridge_cv, Y_test, c='r', marker='+')\n",
    "plt.xlabel(\"Predicted Sales\")\n",
    "plt.ylabel(\"Actual Sales\")\n",
    "plt.title(\"Actual vs. Predicted for Rige CV\")\n",
    "plt.show()"
   ]
  },
  {
   "cell_type": "markdown",
   "metadata": {},
   "source": [
    "# Totals"
   ]
  },
  {
   "cell_type": "code",
   "execution_count": 43,
   "metadata": {
    "collapsed": false
   },
   "outputs": [
    {
     "data": {
      "text/plain": [
       "('6,399,497', '6,466,139')"
      ]
     },
     "execution_count": 43,
     "metadata": {},
     "output_type": "execute_result"
    }
   ],
   "source": [
    "locale.setlocale(locale.LC_ALL, 'en_US')\n",
    "locale.format(\"%d\", Y_test.sum(), grouping=True), locale.format(\"%d\", predictions_ridge_cv.sum(), grouping=True)"
   ]
  },
  {
   "cell_type": "markdown",
   "metadata": {},
   "source": [
    "# Cross Validation"
   ]
  },
  {
   "cell_type": "code",
   "execution_count": 46,
   "metadata": {
    "collapsed": false
   },
   "outputs": [
    {
     "name": "stdout",
     "output_type": "stream",
     "text": [
      " Five Fold Cross-validated scores: [ 0.97696557  0.88757854  0.98692284]\n",
      "Ten Fold Cross-Predicted Accuracy: 0.986907847287\n"
     ]
    },
    {
     "data": {
      "image/png": "[encoded data removed]",
      "text/plain": [
       "<matplotlib.figure.Figure at 0x10e9b7b90>"
      ]
     },
     "metadata": {},
     "output_type": "display_data"
    }
   ],
   "source": [
    "from sklearn.cross_validation import cross_val_score, cross_val_predict\n",
    "from sklearn import metrics\n",
    "\n",
    "# Make 10 fold cross validated predictions\n",
    "predictions = cross_val_predict(lm, X_test, Y_test, cv=10)\n",
    "plt.scatter(Y_test, predictions)\n",
    "scores = cross_val_score(rlm, X, Y, cv=10)\n",
    "accuracy = metrics.r2_score(Y_test, predictions)\n",
    "# Perform 6-fold cross validation\n",
    "scores = cross_val_score(lm, X, Y, cv=3)\n",
    "accuracy = metrics.r2_score(Y_test, predictions)\n",
    "print \"Five Fold Cross-validated scores:\", scores\n",
    "print \"Ten Fold Cross-Predicted Accuracy:\", accuracy\n"
   ]
  },
  {
   "cell_type": "markdown",
   "metadata": {
    "collapsed": true
   },
   "source": [
    "##  LASSO"
   ]
  },
  {
   "cell_type": "code",
   "execution_count": 47,
   "metadata": {
    "collapsed": false
   },
   "outputs": [
    {
     "name": "stdout",
     "output_type": "stream",
     "text": [
      "[  8.00682773  15.01341147  -0.13304973] 14.6622264155\n",
      "Score 0.987726254198\n"
     ]
    }
   ],
   "source": [
    "lasso_lm = linear_model.Lasso()\n",
    "lasso_model = lasso_lm.fit(X,Y)\n",
    "predictions_lasso = lasso_model.predict(X_test)\n",
    "print lasso_model.coef_, lasso_model.intercept_\n",
    "print \"Score\", lasso_model.score(X_test,Y_test)"
   ]
  },
  {
   "cell_type": "code",
   "execution_count": 48,
   "metadata": {
    "collapsed": false
   },
   "outputs": [
    {
     "data": {
      "image/png": "[encoded data removed]",
      "text/plain": [
       "<matplotlib.figure.Figure at 0x10e542410>"
      ]
     },
     "metadata": {},
     "output_type": "display_data"
    }
   ],
   "source": [
    "plt.scatter(predictions_lasso, Y_test, c='r', marker='+')\n",
    "plt.xlabel(\"Predicted Sales\")\n",
    "plt.ylabel(\"Actual Sales\")\n",
    "plt.title(\"Actual vs. Predicted for Lasso\")\n",
    "plt.show()"
   ]
  },
  {
   "cell_type": "markdown",
   "metadata": {},
   "source": [
    "# Totals"
   ]
  },
  {
   "cell_type": "code",
   "execution_count": 49,
   "metadata": {
    "collapsed": false
   },
   "outputs": [
    {
     "data": {
      "text/plain": [
       "('6,399,497', '6,466,139')"
      ]
     },
     "execution_count": 49,
     "metadata": {},
     "output_type": "execute_result"
    }
   ],
   "source": [
    "locale.setlocale(locale.LC_ALL, 'en_US')\n",
    "locale.format(\"%d\", Y_test.sum(), grouping=True), locale.format(\"%d\", predictions_lasso.sum(), grouping=True)"
   ]
  },
  {
   "cell_type": "markdown",
   "metadata": {},
   "source": [
    "# Lasso CV"
   ]
  },
  {
   "cell_type": "code",
   "execution_count": 50,
   "metadata": {
    "collapsed": false
   },
   "outputs": [
    {
     "name": "stdout",
     "output_type": "stream",
     "text": [
      "[  0.          14.02006459   0.01569424] -495.414933157\n",
      "r^2 Score: 0.976554358781\n"
     ]
    }
   ],
   "source": [
    "lasso_lm_cv = linear_model.LassoCV( fit_intercept=True)\n",
    "lasso_lm_cv.fit(X, Y)\n",
    "predictions_lasso_lm_cv = lasso_lm_cv.predict(X_test)\n",
    "print lasso_lm_cv.coef_, lasso_lm_cv.intercept_\n",
    "print \"r^2 Score:\", lasso_lm_cv.score(X_test, Y_test)"
   ]
  },
  {
   "cell_type": "code",
   "execution_count": 51,
   "metadata": {
    "collapsed": false
   },
   "outputs": [
    {
     "data": {
      "image/png": "[encoded data removed]",
      "text/plain": [
       "<matplotlib.figure.Figure at 0x10e803650>"
      ]
     },
     "metadata": {},
     "output_type": "display_data"
    }
   ],
   "source": [
    "plt.scatter(predictions_lasso_lm_cv, Y_test, c='r', marker='+')\n",
    "plt.xlabel(\"Predicted Sales\")\n",
    "plt.ylabel(\"Actual Sales\")\n",
    "plt.title(\"Actual vs. Predicted for Lasso CV\")\n",
    "plt.show()"
   ]
  },
  {
   "cell_type": "markdown",
   "metadata": {},
   "source": [
    "# Totals"
   ]
  },
  {
   "cell_type": "code",
   "execution_count": 52,
   "metadata": {
    "collapsed": false
   },
   "outputs": [
    {
     "data": {
      "text/plain": [
       "('6,399,497', '6,377,538')"
      ]
     },
     "execution_count": 52,
     "metadata": {},
     "output_type": "execute_result"
    }
   ],
   "source": [
    "locale.setlocale(locale.LC_ALL, 'en_US')\n",
    "locale.format(\"%d\", Y_test.sum(), grouping=True), locale.format(\"%d\", predictions_lasso_lm_cv.sum(), grouping=True)"
   ]
  },
  {
   "cell_type": "markdown",
   "metadata": {},
   "source": [
    "# Elastic Net"
   ]
  },
  {
   "cell_type": "code",
   "execution_count": 53,
   "metadata": {
    "collapsed": false
   },
   "outputs": [
    {
     "name": "stdout",
     "output_type": "stream",
     "text": [
      "[  8.00665695  15.01339495  -0.13304661] 14.6515283628\n",
      "Score 0.987726362124\n"
     ]
    }
   ],
   "source": [
    "elastic_lm = linear_model.ElasticNet()\n",
    "elastic_model = elastic_lm.fit(X,Y)\n",
    "predictions_elastic = elastic_model.predict(X_test)\n",
    "print elastic_model.coef_, elastic_model.intercept_\n",
    "print \"Score\", elastic_model.score(X_test,Y_test)"
   ]
  },
  {
   "cell_type": "code",
   "execution_count": 54,
   "metadata": {
    "collapsed": false
   },
   "outputs": [
    {
     "data": {
      "image/png": "[encoded data removed]",
      "text/plain": [
       "<matplotlib.figure.Figure at 0x10f88b910>"
      ]
     },
     "metadata": {},
     "output_type": "display_data"
    }
   ],
   "source": [
    "plt.scatter(predictions_elastic, Y_test, c='r', marker='+')\n",
    "plt.xlabel(\"Predicted Sales\")\n",
    "plt.ylabel(\"Actual Sales\")\n",
    "plt.title(\"Actual vs. Predicted for Elastic Net\")\n",
    "plt.show()"
   ]
  },
  {
   "cell_type": "markdown",
   "metadata": {},
   "source": [
    "# Totals"
   ]
  },
  {
   "cell_type": "code",
   "execution_count": 55,
   "metadata": {
    "collapsed": false
   },
   "outputs": [
    {
     "data": {
      "text/plain": [
       "('6,399,497', '6,466,137')"
      ]
     },
     "execution_count": 55,
     "metadata": {},
     "output_type": "execute_result"
    }
   ],
   "source": [
    "locale.setlocale(locale.LC_ALL, 'en_US')\n",
    "locale.format(\"%d\", Y_test.sum(), grouping=True), locale.format(\"%d\", predictions_elastic.sum(), grouping=True)"
   ]
  },
  {
   "cell_type": "markdown",
   "metadata": {},
   "source": [
    "# Elastic Net CV"
   ]
  },
  {
   "cell_type": "code",
   "execution_count": 56,
   "metadata": {
    "collapsed": false
   },
   "outputs": [
    {
     "name": "stdout",
     "output_type": "stream",
     "text": [
      "[ 0.01762104  5.07069981  0.11551599] -1086.61674028\n",
      "Score 0.786045422255\n"
     ]
    }
   ],
   "source": [
    "elastic_lm_cv = linear_model.ElasticNetCV()\n",
    "elastic_lm_cv_model = elastic_lm_cv.fit(X,Y)\n",
    "predictions_elastic = elastic_lm_cv_model.predict(X_test)\n",
    "print elastic_lm_cv_model.coef_, elastic_lm_cv_model.intercept_\n",
    "print \"Score\", elastic_lm_cv_model.score(X_test,Y_test)"
   ]
  },
  {
   "cell_type": "code",
   "execution_count": 57,
   "metadata": {
    "collapsed": false
   },
   "outputs": [
    {
     "data": {
      "image/png": "[encoded data removed]",
      "text/plain": [
       "<matplotlib.figure.Figure at 0x10f84c610>"
      ]
     },
     "metadata": {},
     "output_type": "display_data"
    }
   ],
   "source": [
    "plt.scatter(predictions_elastic, Y_test, c='r', marker='+')\n",
    "plt.xlabel(\"Predicted Sales\")\n",
    "plt.ylabel(\"Actual Sales\")\n",
    "plt.title(\"Actual vs. Predicted for Lasso\")\n",
    "plt.show()"
   ]
  },
  {
   "cell_type": "markdown",
   "metadata": {},
   "source": [
    "# Totals"
   ]
  },
  {
   "cell_type": "code",
   "execution_count": 58,
   "metadata": {
    "collapsed": false
   },
   "outputs": [
    {
     "data": {
      "text/plain": [
       "('6,399,497', '6,432,297')"
      ]
     },
     "execution_count": 58,
     "metadata": {},
     "output_type": "execute_result"
    }
   ],
   "source": [
    "locale.setlocale(locale.LC_ALL, 'en_US')\n",
    "locale.format(\"%d\", Y_test.sum(), grouping=True), locale.format(\"%d\", predictions_elastic.sum(), grouping=True)"
   ]
  },
  {
   "cell_type": "markdown",
   "metadata": {},
   "source": [
    "## Plot your results\n",
    "\n",
    "Again make sure that you record any valuable information. For example, in the tax scenario, did you find the sales from the first three months of the year to be a good predictor of the total sales for the year? Plot the predictions versus the true values and discuss the successes and limitations of your models"
   ]
  },
  {
   "cell_type": "markdown",
   "metadata": {},
   "source": [
    "# Present the Results\n",
    "\n",
    "Present your conclusions and results. If you have more than one interesting model feel free to include more than one along with a discussion. Use your work in this notebook to prepare your write-up."
   ]
  },
  {
   "cell_type": "code",
   "execution_count": null,
   "metadata": {
    "collapsed": true
   },
   "outputs": [],
   "source": []
  }
 ],
 "metadata": {
  "anaconda-cloud": {},
  "kernelspec": {
   "display_name": "Python [conda env:dsienv]",
   "language": "python",
   "name": "conda-env-dsienv-py"
  },
  "language_info": {
   "codemirror_mode": {
    "name": "ipython",
    "version": 2
   },
   "file_extension": ".py",
   "mimetype": "text/x-python",
   "name": "python",
   "nbconvert_exporter": "python",
   "pygments_lexer": "ipython2",
   "version": "2.7.12"
  }
 },
 "nbformat": 4,
 "nbformat_minor": 0
}
